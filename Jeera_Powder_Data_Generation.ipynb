{
  "nbformat": 4,
  "nbformat_minor": 0,
  "metadata": {
    "colab": {
      "provenance": [],
      "gpuType": "V28"
    },
    "kernelspec": {
      "name": "python3",
      "display_name": "Python 3"
    },
    "language_info": {
      "name": "python"
    },
    "accelerator": "TPU"
  },
  "cells": [
    {
      "cell_type": "code",
      "source": [
        "# Install required packages\n",
        "!pip install scikit-image opencv-python-headless tqdm\n",
        "\n",
        "import os\n",
        "import numpy as np\n",
        "import cv2\n",
        "from google.colab import drive\n",
        "import pandas as pd\n",
        "from skimage.feature import graycomatrix, graycoprops\n",
        "from scipy.stats import skew, kurtosis\n",
        "import zipfile\n",
        "from tqdm import tqdm\n",
        "import concurrent.futures\n",
        "import threading\n",
        "from concurrent.futures import ThreadPoolExecutor"
      ],
      "metadata": {
        "colab": {
          "base_uri": "https://localhost:8080/"
        },
        "id": "dkqQg6XLG5bX",
        "outputId": "bdf4f9e2-d623-481c-e410-174f445714c3"
      },
      "execution_count": null,
      "outputs": [
        {
          "output_type": "stream",
          "name": "stdout",
          "text": [
            "Requirement already satisfied: scikit-image in /usr/local/lib/python3.10/dist-packages (0.24.0)\n",
            "Requirement already satisfied: opencv-python-headless in /usr/local/lib/python3.10/dist-packages (4.10.0.84)\n",
            "Requirement already satisfied: tqdm in /usr/local/lib/python3.10/dist-packages (4.66.5)\n",
            "Requirement already satisfied: numpy>=1.23 in /usr/local/lib/python3.10/dist-packages (from scikit-image) (1.26.4)\n",
            "Requirement already satisfied: scipy>=1.9 in /usr/local/lib/python3.10/dist-packages (from scikit-image) (1.13.1)\n",
            "Requirement already satisfied: networkx>=2.8 in /usr/local/lib/python3.10/dist-packages (from scikit-image) (3.3)\n",
            "Requirement already satisfied: pillow>=9.1 in /usr/local/lib/python3.10/dist-packages (from scikit-image) (10.4.0)\n",
            "Requirement already satisfied: imageio>=2.33 in /usr/local/lib/python3.10/dist-packages (from scikit-image) (2.35.1)\n",
            "Requirement already satisfied: tifffile>=2022.8.12 in /usr/local/lib/python3.10/dist-packages (from scikit-image) (2024.9.20)\n",
            "Requirement already satisfied: packaging>=21 in /usr/local/lib/python3.10/dist-packages (from scikit-image) (24.1)\n",
            "Requirement already satisfied: lazy-loader>=0.4 in /usr/local/lib/python3.10/dist-packages (from scikit-image) (0.4)\n"
          ]
        }
      ]
    },
    {
      "cell_type": "code",
      "source": [
        "# Mount Google Drive\n",
        "drive.mount('/content/drive')"
      ],
      "metadata": {
        "id": "20ipcfKvG5d_"
      },
      "execution_count": null,
      "outputs": []
    },
    {
      "cell_type": "code",
      "source": [
        "extract_path = '/content/'"
      ],
      "metadata": {
        "id": "tukDvD0hIegr"
      },
      "execution_count": null,
      "outputs": []
    },
    {
      "cell_type": "code",
      "source": [
        "# Specify the path to your zip file in Google Drive\n",
        "zip_path = '/content/drive/MyDrive/Adultered_Project/Augemented_Data.zip'\n",
        "extract_path = '/content/'\n",
        "print(\"Extracting zip file...\")\n",
        "with zipfile.ZipFile(zip_path, 'r') as zip_ref:\n",
        "    zip_ref.extractall(extract_path)"
      ],
      "metadata": {
        "id": "_nAayDqaG5gc"
      },
      "execution_count": null,
      "outputs": []
    },
    {
      "cell_type": "code",
      "source": [
        "def calculate_glcm_features(img_gray):\n",
        "    \"\"\"Calculate GLCM features efficiently\"\"\"\n",
        "    glcm = graycomatrix(img_gray, distances=[1], angles=[0], levels=256,\n",
        "                        symmetric=True, normed=True)\n",
        "    return {\n",
        "        'Contrast': graycoprops(glcm, 'contrast')[0][0],\n",
        "        'Energy': graycoprops(glcm, 'energy')[0][0],\n",
        "        'Homogeneity': graycoprops(glcm, 'homogeneity')[0][0]\n",
        "    }"
      ],
      "metadata": {
        "id": "h9k5lgGGG5i3"
      },
      "execution_count": null,
      "outputs": []
    },
    {
      "cell_type": "code",
      "source": [
        "def calculate_color_stats(img_rgb):\n",
        "    \"\"\"Calculate color statistics efficiently using NumPy operations\"\"\"\n",
        "    means = np.mean(img_rgb, axis=(0,1))\n",
        "    stds = np.std(img_rgb, axis=(0,1))\n",
        "    return {\n",
        "        'Mean_R': means[0],\n",
        "        'Mean_G': means[1],\n",
        "        'Mean_B': means[2],\n",
        "        'Std_R': stds[0],\n",
        "        'Std_G': stds[1],\n",
        "        'Std_B': stds[2]\n",
        "    }"
      ],
      "metadata": {
        "id": "euyv0N2DG5lP"
      },
      "execution_count": null,
      "outputs": []
    },
    {
      "cell_type": "code",
      "source": [
        "def calculate_intensity_stats(intensity):\n",
        "    \"\"\"Calculate intensity statistics efficiently\"\"\"\n",
        "    flat_intensity = intensity.flatten()\n",
        "    return {\n",
        "        'var_intensity': np.var(flat_intensity),\n",
        "        'skewness': skew(flat_intensity),\n",
        "        'kurtosis': kurtosis(flat_intensity)\n",
        "    }"
      ],
      "metadata": {
        "id": "s3euq0eeG5nv"
      },
      "execution_count": null,
      "outputs": []
    },
    {
      "cell_type": "code",
      "source": [
        "def calculate_color_histogram(img):\n",
        "    \"\"\"Calculate color histogram features efficiently\"\"\"\n",
        "    hist = cv2.calcHist([img], [0,1,2], None, [8,8,8], [0,256,0,256,0,256])\n",
        "    hist = cv2.normalize(hist, hist).flatten()\n",
        "    return {\n",
        "        'Color_Hist_1': hist[0],\n",
        "        'Color_Hist_2': hist[1],\n",
        "        'Color_Hist_3': hist[2]\n",
        "    }"
      ],
      "metadata": {
        "id": "F2f--KnrG5qV"
      },
      "execution_count": null,
      "outputs": []
    },
    {
      "cell_type": "code",
      "source": [
        "def extract_features(image_path):\n",
        "    \"\"\"Extract all features for a single image\"\"\"\n",
        "    try:\n",
        "        # Read image\n",
        "        img = cv2.imread(image_path)\n",
        "        if img is None:\n",
        "            raise ValueError(f\"Failed to read image: {image_path}\")\n",
        "\n",
        "        height, width = img.shape[:2]\n",
        "\n",
        "        # Convert to RGB and grayscale (do this once)\n",
        "        img_rgb = cv2.cvtColor(img, cv2.COLOR_BGR2RGB)\n",
        "        img_gray = cv2.cvtColor(img, cv2.COLOR_BGR2GRAY)\n",
        "\n",
        "        # Extract all features\n",
        "        features = {}\n",
        "        features.update(calculate_glcm_features(img_gray))\n",
        "        features.update(calculate_color_stats(img_rgb))\n",
        "        features.update(calculate_intensity_stats(img_gray))\n",
        "        features.update(calculate_color_histogram(img))\n",
        "        features.update({\n",
        "            'Height': height,\n",
        "            'Width': width,\n",
        "            'Image_Path': image_path\n",
        "        })\n",
        "\n",
        "        return features\n",
        "\n",
        "    except Exception as e:\n",
        "        print(f\"Error processing {image_path}: {str(e)}\")\n",
        "        return None"
      ],
      "metadata": {
        "id": "vcsS05YvG5s3"
      },
      "execution_count": null,
      "outputs": []
    },
    {
      "cell_type": "code",
      "source": [
        "def process_images_in_batches(image_paths, batch_size=16):\n",
        "    \"\"\"Process images in parallel batches\"\"\"\n",
        "    results = []\n",
        "\n",
        "    with ThreadPoolExecutor(max_workers=batch_size) as executor:\n",
        "        futures = []\n",
        "        for image_path in image_paths:\n",
        "            future = executor.submit(extract_features, image_path)\n",
        "            futures.append(future)\n",
        "\n",
        "        # Show progress bar\n",
        "        for future in tqdm(concurrent.futures.as_completed(futures),\n",
        "                          total=len(futures),\n",
        "                          desc=\"Processing images\"):\n",
        "            result = future.result()\n",
        "            if result is not None:\n",
        "                results.append(result)\n",
        "\n",
        "    return results"
      ],
      "metadata": {
        "id": "4TCEaPimG5vj"
      },
      "execution_count": null,
      "outputs": []
    },
    {
      "cell_type": "code",
      "source": [
        "# Get list of all image files\n",
        "print(\"Collecting image paths...\")\n",
        "image_paths = []\n",
        "for root, dirs, files in os.walk(extract_path):\n",
        "    for file in files:\n",
        "        if file.lower().endswith(('.png', '.jpg', '.jpeg')):\n",
        "            image_paths.append(os.path.join(root, file))\n",
        "\n",
        "print(f\"Found {len(image_paths)} images\")\n",
        "\n",
        "# Process images\n",
        "print(\"Processing images...\")\n",
        "all_features = process_images_in_batches(image_paths)\n"
      ],
      "metadata": {
        "colab": {
          "base_uri": "https://localhost:8080/"
        },
        "id": "4l7m_obbG5yL",
        "outputId": "57092453-7e0a-4566-8359-52b45b0c5b1b"
      },
      "execution_count": null,
      "outputs": [
        {
          "output_type": "stream",
          "name": "stdout",
          "text": [
            "Collecting image paths...\n",
            "Found 10043 images\n",
            "Processing images...\n"
          ]
        },
        {
          "output_type": "stream",
          "name": "stderr",
          "text": [
            "Processing images:   0%|          | 41/10043 [00:01<04:34, 36.38it/s]"
          ]
        },
        {
          "output_type": "stream",
          "name": "stdout",
          "text": [
            "Error processing /content/drive/MyDrive/dc.png: Failed to read image: /content/drive/MyDrive/dc.png\n"
          ]
        },
        {
          "output_type": "stream",
          "name": "stderr",
          "text": [
            "Processing images:   1%|          | 60/10043 [00:01<02:54, 57.23it/s]"
          ]
        },
        {
          "output_type": "stream",
          "name": "stdout",
          "text": [
            "Error processing /content/drive/MyDrive/IMG_20190522_132854.jpg: Failed to read image: /content/drive/MyDrive/IMG_20190522_132854.jpg\n",
            "Error processing /content/drive/MyDrive/IMG_20190522_132844.jpg: Failed to read image: /content/drive/MyDrive/IMG_20190522_132844.jpg\n",
            "Error processing /content/drive/MyDrive/IMG_20190522_131757.jpg: Failed to read image: /content/drive/MyDrive/IMG_20190522_131757.jpg\n",
            "Error processing /content/drive/MyDrive/IMG_20190522_133452.jpg: Failed to read image: /content/drive/MyDrive/IMG_20190522_133452.jpg\n"
          ]
        },
        {
          "output_type": "stream",
          "name": "stderr",
          "text": [
            "Processing images:  92%|█████████▏| 9285/10043 [02:47<00:28, 26.23it/s]"
          ]
        },
        {
          "output_type": "stream",
          "name": "stdout",
          "text": [
            "Error processing /content/drive/Othercomputers/My Laptop/Desktop/Files/TOUR DEMO/__MACOSX/TOUR DEMO/Photos Collections/._i7.jpg: Failed to read image: /content/drive/Othercomputers/My Laptop/Desktop/Files/TOUR DEMO/__MACOSX/TOUR DEMO/Photos Collections/._i7.jpg\n"
          ]
        },
        {
          "output_type": "stream",
          "name": "stderr",
          "text": [
            "Processing images:  93%|█████████▎| 9292/10043 [02:47<00:29, 25.40it/s]"
          ]
        },
        {
          "output_type": "stream",
          "name": "stdout",
          "text": [
            "Error processing /content/drive/Othercomputers/My Laptop/Desktop/Files/TOUR DEMO/__MACOSX/TOUR DEMO/Photos Collections/._i6.jpg: Failed to read image: /content/drive/Othercomputers/My Laptop/Desktop/Files/TOUR DEMO/__MACOSX/TOUR DEMO/Photos Collections/._i6.jpg\n",
            "Error processing /content/drive/Othercomputers/My Laptop/Desktop/Files/TOUR DEMO/__MACOSX/TOUR DEMO/Photos Collections/._i10.jpg: Failed to read image: /content/drive/Othercomputers/My Laptop/Desktop/Files/TOUR DEMO/__MACOSX/TOUR DEMO/Photos Collections/._i10.jpg\n",
            "Error processing /content/drive/Othercomputers/My Laptop/Desktop/Files/TOUR DEMO/__MACOSX/TOUR DEMO/Photos Collections/._i8.jpg: Failed to read image: /content/drive/Othercomputers/My Laptop/Desktop/Files/TOUR DEMO/__MACOSX/TOUR DEMO/Photos Collections/._i8.jpg\n",
            "Error processing /content/drive/Othercomputers/My Laptop/Desktop/Files/TOUR DEMO/__MACOSX/TOUR DEMO/Photos Collections/._i13.png: Failed to read image: /content/drive/Othercomputers/My Laptop/Desktop/Files/TOUR DEMO/__MACOSX/TOUR DEMO/Photos Collections/._i13.png\n",
            "Error processing /content/drive/Othercomputers/My Laptop/Desktop/Files/TOUR DEMO/__MACOSX/TOUR DEMO/Photos Collections/._i5.jpg: Failed to read image: /content/drive/Othercomputers/My Laptop/Desktop/Files/TOUR DEMO/__MACOSX/TOUR DEMO/Photos Collections/._i5.jpg\n",
            "Error processing /content/drive/Othercomputers/My Laptop/Desktop/Files/TOUR DEMO/__MACOSX/TOUR DEMO/Photos Collections/._i3.jpg: Failed to read image: /content/drive/Othercomputers/My Laptop/Desktop/Files/TOUR DEMO/__MACOSX/TOUR DEMO/Photos Collections/._i3.jpg\n",
            "Error processing /content/drive/Othercomputers/My Laptop/Desktop/Files/TOUR DEMO/__MACOSX/TOUR DEMO/Photos Collections/._i9.jpg: Failed to read image: /content/drive/Othercomputers/My Laptop/Desktop/Files/TOUR DEMO/__MACOSX/TOUR DEMO/Photos Collections/._i9.jpg\n"
          ]
        },
        {
          "output_type": "stream",
          "name": "stderr",
          "text": [
            "\rProcessing images:  93%|█████████▎| 9296/10043 [02:48<00:30, 24.88it/s]"
          ]
        },
        {
          "output_type": "stream",
          "name": "stdout",
          "text": [
            "Error processing /content/drive/Othercomputers/My Laptop/Desktop/Files/TOUR DEMO/__MACOSX/TOUR DEMO/Photos Collections/._sphotos.jpg: Failed to read image: /content/drive/Othercomputers/My Laptop/Desktop/Files/TOUR DEMO/__MACOSX/TOUR DEMO/Photos Collections/._sphotos.jpg\n"
          ]
        },
        {
          "output_type": "stream",
          "name": "stderr",
          "text": [
            "Processing images:  93%|█████████▎| 9307/10043 [02:48<00:26, 27.65it/s]"
          ]
        },
        {
          "output_type": "stream",
          "name": "stdout",
          "text": [
            "Error processing /content/drive/Othercomputers/My Laptop/Desktop/Files/TOUR DEMO/__MACOSX/TOUR DEMO/Photos Collections/._i12.jpg: Failed to read image: /content/drive/Othercomputers/My Laptop/Desktop/Files/TOUR DEMO/__MACOSX/TOUR DEMO/Photos Collections/._i12.jpg\n",
            "Error processing /content/drive/Othercomputers/My Laptop/Desktop/Files/TOUR DEMO/__MACOSX/TOUR DEMO/Photos Collections/._i1.jpg: Failed to read image: /content/drive/Othercomputers/My Laptop/Desktop/Files/TOUR DEMO/__MACOSX/TOUR DEMO/Photos Collections/._i1.jpg\n"
          ]
        },
        {
          "output_type": "stream",
          "name": "stderr",
          "text": [
            "Processing images:  94%|█████████▍| 9486/10043 [02:53<00:18, 30.59it/s]<ipython-input-14-92a9fa31b0d1>:6: RuntimeWarning: Precision loss occurred in moment calculation due to catastrophic cancellation. This occurs when the data are nearly identical. Results may be unreliable.\n",
            "  'skewness': skew(flat_intensity),\n",
            "<ipython-input-14-92a9fa31b0d1>:7: RuntimeWarning: Precision loss occurred in moment calculation due to catastrophic cancellation. This occurs when the data are nearly identical. Results may be unreliable.\n",
            "  'kurtosis': kurtosis(flat_intensity)\n",
            "Processing images: 100%|██████████| 10043/10043 [03:11<00:00, 52.34it/s]\n"
          ]
        }
      ]
    },
    {
      "cell_type": "code",
      "source": [
        "# Create DataFrame\n",
        "print(\"Creating DataFrame...\")\n",
        "df = pd.DataFrame(all_features)\n",
        "\n",
        "# Save to CSV\n",
        "output_path = '/content/drive/MyDrive/image_features.csv'\n",
        "print(f\"Saving results to {output_path}\")\n",
        "df.to_csv(output_path, index=False)\n",
        "print(\"Done!\")\n",
        "\n",
        "# Print some statistics\n",
        "print(\"\\nSummary:\")\n",
        "print(f\"Total images processed: {len(df)}\")\n",
        "print(f\"Features extracted per image: {len(df.columns)-1}\")  # -1 for Image_Path column\n",
        "print(\"\\nFeature preview:\")\n",
        "print(df.head())"
      ],
      "metadata": {
        "colab": {
          "base_uri": "https://localhost:8080/"
        },
        "id": "-cH1Gu_oG50s",
        "outputId": "1e3b1651-1bc9-4d30-8b0d-3391ce85365f"
      },
      "execution_count": null,
      "outputs": [
        {
          "output_type": "stream",
          "name": "stdout",
          "text": [
            "Creating DataFrame...\n",
            "Saving results to /content/drive/MyDrive/image_features.csv\n",
            "Done!\n",
            "\n",
            "Summary:\n",
            "Total images processed: 10027\n",
            "Features extracted per image: 17\n",
            "\n",
            "Feature preview:\n",
            "     Contrast    Energy  Homogeneity      Mean_R      Mean_G      Mean_B  \\\n",
            "0  124.146354  0.240403     0.782862  159.728081  152.245370  149.369045   \n",
            "1  124.146354  0.240403     0.782862  159.728081  152.245370  149.369045   \n",
            "2  268.666494  0.017711     0.126736  175.717906  171.354129  167.148680   \n",
            "3  129.316790  0.128459     0.745999  180.562294  181.007283  177.877115   \n",
            "4  167.648185  0.144648     0.634382  154.494425  151.131818  147.306783   \n",
            "\n",
            "       Std_R      Std_G      Std_B  var_intensity  skewness   kurtosis  \\\n",
            "0  21.193808  21.032794  21.022642     443.528294 -3.630939  16.965012   \n",
            "1  21.193808  21.032794  21.022642     443.528294 -3.630939  16.965012   \n",
            "2  36.006704  35.993231  35.850221    1294.975955 -1.646531   3.839517   \n",
            "3  25.824347  26.230856  26.429890     681.557886 -2.600118   8.059752   \n",
            "4  61.177786  62.202854  61.630569    3803.745256 -1.452783   0.462601   \n",
            "\n",
            "   Color_Hist_1  Color_Hist_2  Color_Hist_3  Height  Width  \\\n",
            "0      0.009428      0.001229      0.000000     473   1080   \n",
            "1      0.009428      0.001229      0.000000     473   1080   \n",
            "2      0.016782      0.004206      0.000000     356   3258   \n",
            "3      0.000913      0.000188      0.000000    1080    772   \n",
            "4      0.245968      0.015165      0.001266     608   1080   \n",
            "\n",
            "                                  Image_Path  \n",
            "0   /content/drive/MyDrive/Bank passbook.jpg  \n",
            "1  /content/drive/MyDrive/Bank passbook.jpeg  \n",
            "2               /content/drive/MyDrive/s.jpg  \n",
            "3     /content/drive/MyDrive/fee receipt.jpg  \n",
            "4    /content/drive/MyDrive/aadhar card .jpg  \n"
          ]
        }
      ]
    },
    {
      "cell_type": "code",
      "source": [],
      "metadata": {
        "id": "-VDUXWcWG53d"
      },
      "execution_count": null,
      "outputs": []
    }
  ]
}