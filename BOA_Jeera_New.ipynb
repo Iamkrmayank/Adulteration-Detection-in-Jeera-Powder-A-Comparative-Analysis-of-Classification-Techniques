{
  "nbformat": 4,
  "nbformat_minor": 0,
  "metadata": {
    "colab": {
      "provenance": []
    },
    "kernelspec": {
      "name": "python3",
      "display_name": "Python 3"
    },
    "language_info": {
      "name": "python"
    }
  },
  "cells": [
    {
      "cell_type": "code",
      "execution_count": null,
      "metadata": {
        "id": "btMCzXAFJ2Kg"
      },
      "outputs": [],
      "source": [
        "from google.colab import files\n",
        "files.upload()"
      ]
    },
    {
      "cell_type": "code",
      "source": [
        "import pandas as pd\n",
        "df = pd.read_excel('/content/NEWDataJeera.xlsx')"
      ],
      "metadata": {
        "id": "yL-v3-f2Kge7"
      },
      "execution_count": null,
      "outputs": []
    },
    {
      "cell_type": "code",
      "source": [
        "df"
      ],
      "metadata": {
        "colab": {
          "base_uri": "https://localhost:8080/",
          "height": 443
        },
        "id": "Tocd2MbfKghN",
        "outputId": "7f942b50-20e6-44af-ec04-83b409a15f42"
      },
      "execution_count": null,
      "outputs": [
        {
          "output_type": "execute_result",
          "data": {
            "text/plain": [
              "       Contrast    Energy  Homogeneity      Mean_R      Mean_G      Mean_B  \\\n",
              "0     34.322744  0.017512     0.317423  143.654533  145.121898  118.907567   \n",
              "1    107.733327  0.017602     0.256402  144.093755  138.710550  144.876813   \n",
              "2    287.776200  0.012382     0.128639  151.113300  141.475900  138.531900   \n",
              "3    187.629098  0.019082     0.201164  143.704990  134.484417  137.050818   \n",
              "4    208.488600  0.013543     0.149645  146.134300  137.070400  134.425400   \n",
              "..          ...       ...          ...         ...         ...         ...   \n",
              "616  165.090526  0.017429     0.171908  138.921764  133.837717  129.394925   \n",
              "617  226.592503  0.017122     0.280422  150.238169  142.121006  131.971051   \n",
              "618  201.783101  0.018563     0.195675  137.552948  136.226131  135.136124   \n",
              "619  264.523400  0.012534     0.121353  158.577700  149.829900  148.126300   \n",
              "620  165.224700  0.015771     0.161498  155.571800  147.979500  146.150500   \n",
              "\n",
              "         Std_R      Std_G      Std_B  var_intensity  skewness  kurtosis  \\\n",
              "0    36.882742  36.473403  38.886577    1499.882329 -0.424689 -0.380918   \n",
              "1    36.441492  38.036010  53.921360    1385.423674 -0.118446 -0.331482   \n",
              "2    41.540650  46.204550  47.264750    2005.674000  0.122003 -0.332270   \n",
              "3    39.514298  42.285556  38.268037    1336.217995 -0.378454 -0.006339   \n",
              "4    41.149150  46.011700  47.707160    1985.712000  0.175707 -0.352230   \n",
              "..         ...        ...        ...            ...       ...       ...   \n",
              "616  30.078416  34.219133  50.802862    1375.026576 -0.008818  0.438206   \n",
              "617  38.221799  40.036372  45.006470    1348.266343  0.278357  0.302798   \n",
              "618  32.107050  42.066935  50.454037    1143.265922  0.046132  0.224874   \n",
              "619  38.229710  43.111150  44.313090    1735.439000 -0.005580 -0.315700   \n",
              "620  33.793600  38.425390  39.861420    1374.465000 -0.047330 -0.201590   \n",
              "\n",
              "     Height  Width  Color_Hist_1  Color_Hist_2  Color_Hist_3  Outcome  \n",
              "0      1944   2592      0.000194      0.011374      0.000015        0  \n",
              "1      1944   2592      0.000737      0.011441      0.000003        0  \n",
              "2      1944   2592      0.002127      0.007690      0.000006        1  \n",
              "3      1944   2592      0.001033      0.011145      0.000133        0  \n",
              "4      1944   2592      0.001248      0.005958      0.000009        1  \n",
              "..      ...    ...           ...           ...           ...      ...  \n",
              "616    1944   2592      0.000054      0.011972      0.000189        0  \n",
              "617    1944   2592      0.000487      0.004422      0.000029        0  \n",
              "618    1944   2592      0.000517      0.001022      0.000039        0  \n",
              "619    1944   2592      0.000599      0.003151      0.000015        1  \n",
              "620    1944   2592      0.000140      0.000832      0.000000        1  \n",
              "\n",
              "[621 rows x 18 columns]"
            ],
            "text/html": [
              "\n",
              "  <div id=\"df-6bac28a3-d4cf-44d6-a9de-665ce095292d\" class=\"colab-df-container\">\n",
              "    <div>\n",
              "<style scoped>\n",
              "    .dataframe tbody tr th:only-of-type {\n",
              "        vertical-align: middle;\n",
              "    }\n",
              "\n",
              "    .dataframe tbody tr th {\n",
              "        vertical-align: top;\n",
              "    }\n",
              "\n",
              "    .dataframe thead th {\n",
              "        text-align: right;\n",
              "    }\n",
              "</style>\n",
              "<table border=\"1\" class=\"dataframe\">\n",
              "  <thead>\n",
              "    <tr style=\"text-align: right;\">\n",
              "      <th></th>\n",
              "      <th>Contrast</th>\n",
              "      <th>Energy</th>\n",
              "      <th>Homogeneity</th>\n",
              "      <th>Mean_R</th>\n",
              "      <th>Mean_G</th>\n",
              "      <th>Mean_B</th>\n",
              "      <th>Std_R</th>\n",
              "      <th>Std_G</th>\n",
              "      <th>Std_B</th>\n",
              "      <th>var_intensity</th>\n",
              "      <th>skewness</th>\n",
              "      <th>kurtosis</th>\n",
              "      <th>Height</th>\n",
              "      <th>Width</th>\n",
              "      <th>Color_Hist_1</th>\n",
              "      <th>Color_Hist_2</th>\n",
              "      <th>Color_Hist_3</th>\n",
              "      <th>Outcome</th>\n",
              "    </tr>\n",
              "  </thead>\n",
              "  <tbody>\n",
              "    <tr>\n",
              "      <th>0</th>\n",
              "      <td>34.322744</td>\n",
              "      <td>0.017512</td>\n",
              "      <td>0.317423</td>\n",
              "      <td>143.654533</td>\n",
              "      <td>145.121898</td>\n",
              "      <td>118.907567</td>\n",
              "      <td>36.882742</td>\n",
              "      <td>36.473403</td>\n",
              "      <td>38.886577</td>\n",
              "      <td>1499.882329</td>\n",
              "      <td>-0.424689</td>\n",
              "      <td>-0.380918</td>\n",
              "      <td>1944</td>\n",
              "      <td>2592</td>\n",
              "      <td>0.000194</td>\n",
              "      <td>0.011374</td>\n",
              "      <td>0.000015</td>\n",
              "      <td>0</td>\n",
              "    </tr>\n",
              "    <tr>\n",
              "      <th>1</th>\n",
              "      <td>107.733327</td>\n",
              "      <td>0.017602</td>\n",
              "      <td>0.256402</td>\n",
              "      <td>144.093755</td>\n",
              "      <td>138.710550</td>\n",
              "      <td>144.876813</td>\n",
              "      <td>36.441492</td>\n",
              "      <td>38.036010</td>\n",
              "      <td>53.921360</td>\n",
              "      <td>1385.423674</td>\n",
              "      <td>-0.118446</td>\n",
              "      <td>-0.331482</td>\n",
              "      <td>1944</td>\n",
              "      <td>2592</td>\n",
              "      <td>0.000737</td>\n",
              "      <td>0.011441</td>\n",
              "      <td>0.000003</td>\n",
              "      <td>0</td>\n",
              "    </tr>\n",
              "    <tr>\n",
              "      <th>2</th>\n",
              "      <td>287.776200</td>\n",
              "      <td>0.012382</td>\n",
              "      <td>0.128639</td>\n",
              "      <td>151.113300</td>\n",
              "      <td>141.475900</td>\n",
              "      <td>138.531900</td>\n",
              "      <td>41.540650</td>\n",
              "      <td>46.204550</td>\n",
              "      <td>47.264750</td>\n",
              "      <td>2005.674000</td>\n",
              "      <td>0.122003</td>\n",
              "      <td>-0.332270</td>\n",
              "      <td>1944</td>\n",
              "      <td>2592</td>\n",
              "      <td>0.002127</td>\n",
              "      <td>0.007690</td>\n",
              "      <td>0.000006</td>\n",
              "      <td>1</td>\n",
              "    </tr>\n",
              "    <tr>\n",
              "      <th>3</th>\n",
              "      <td>187.629098</td>\n",
              "      <td>0.019082</td>\n",
              "      <td>0.201164</td>\n",
              "      <td>143.704990</td>\n",
              "      <td>134.484417</td>\n",
              "      <td>137.050818</td>\n",
              "      <td>39.514298</td>\n",
              "      <td>42.285556</td>\n",
              "      <td>38.268037</td>\n",
              "      <td>1336.217995</td>\n",
              "      <td>-0.378454</td>\n",
              "      <td>-0.006339</td>\n",
              "      <td>1944</td>\n",
              "      <td>2592</td>\n",
              "      <td>0.001033</td>\n",
              "      <td>0.011145</td>\n",
              "      <td>0.000133</td>\n",
              "      <td>0</td>\n",
              "    </tr>\n",
              "    <tr>\n",
              "      <th>4</th>\n",
              "      <td>208.488600</td>\n",
              "      <td>0.013543</td>\n",
              "      <td>0.149645</td>\n",
              "      <td>146.134300</td>\n",
              "      <td>137.070400</td>\n",
              "      <td>134.425400</td>\n",
              "      <td>41.149150</td>\n",
              "      <td>46.011700</td>\n",
              "      <td>47.707160</td>\n",
              "      <td>1985.712000</td>\n",
              "      <td>0.175707</td>\n",
              "      <td>-0.352230</td>\n",
              "      <td>1944</td>\n",
              "      <td>2592</td>\n",
              "      <td>0.001248</td>\n",
              "      <td>0.005958</td>\n",
              "      <td>0.000009</td>\n",
              "      <td>1</td>\n",
              "    </tr>\n",
              "    <tr>\n",
              "      <th>...</th>\n",
              "      <td>...</td>\n",
              "      <td>...</td>\n",
              "      <td>...</td>\n",
              "      <td>...</td>\n",
              "      <td>...</td>\n",
              "      <td>...</td>\n",
              "      <td>...</td>\n",
              "      <td>...</td>\n",
              "      <td>...</td>\n",
              "      <td>...</td>\n",
              "      <td>...</td>\n",
              "      <td>...</td>\n",
              "      <td>...</td>\n",
              "      <td>...</td>\n",
              "      <td>...</td>\n",
              "      <td>...</td>\n",
              "      <td>...</td>\n",
              "      <td>...</td>\n",
              "    </tr>\n",
              "    <tr>\n",
              "      <th>616</th>\n",
              "      <td>165.090526</td>\n",
              "      <td>0.017429</td>\n",
              "      <td>0.171908</td>\n",
              "      <td>138.921764</td>\n",
              "      <td>133.837717</td>\n",
              "      <td>129.394925</td>\n",
              "      <td>30.078416</td>\n",
              "      <td>34.219133</td>\n",
              "      <td>50.802862</td>\n",
              "      <td>1375.026576</td>\n",
              "      <td>-0.008818</td>\n",
              "      <td>0.438206</td>\n",
              "      <td>1944</td>\n",
              "      <td>2592</td>\n",
              "      <td>0.000054</td>\n",
              "      <td>0.011972</td>\n",
              "      <td>0.000189</td>\n",
              "      <td>0</td>\n",
              "    </tr>\n",
              "    <tr>\n",
              "      <th>617</th>\n",
              "      <td>226.592503</td>\n",
              "      <td>0.017122</td>\n",
              "      <td>0.280422</td>\n",
              "      <td>150.238169</td>\n",
              "      <td>142.121006</td>\n",
              "      <td>131.971051</td>\n",
              "      <td>38.221799</td>\n",
              "      <td>40.036372</td>\n",
              "      <td>45.006470</td>\n",
              "      <td>1348.266343</td>\n",
              "      <td>0.278357</td>\n",
              "      <td>0.302798</td>\n",
              "      <td>1944</td>\n",
              "      <td>2592</td>\n",
              "      <td>0.000487</td>\n",
              "      <td>0.004422</td>\n",
              "      <td>0.000029</td>\n",
              "      <td>0</td>\n",
              "    </tr>\n",
              "    <tr>\n",
              "      <th>618</th>\n",
              "      <td>201.783101</td>\n",
              "      <td>0.018563</td>\n",
              "      <td>0.195675</td>\n",
              "      <td>137.552948</td>\n",
              "      <td>136.226131</td>\n",
              "      <td>135.136124</td>\n",
              "      <td>32.107050</td>\n",
              "      <td>42.066935</td>\n",
              "      <td>50.454037</td>\n",
              "      <td>1143.265922</td>\n",
              "      <td>0.046132</td>\n",
              "      <td>0.224874</td>\n",
              "      <td>1944</td>\n",
              "      <td>2592</td>\n",
              "      <td>0.000517</td>\n",
              "      <td>0.001022</td>\n",
              "      <td>0.000039</td>\n",
              "      <td>0</td>\n",
              "    </tr>\n",
              "    <tr>\n",
              "      <th>619</th>\n",
              "      <td>264.523400</td>\n",
              "      <td>0.012534</td>\n",
              "      <td>0.121353</td>\n",
              "      <td>158.577700</td>\n",
              "      <td>149.829900</td>\n",
              "      <td>148.126300</td>\n",
              "      <td>38.229710</td>\n",
              "      <td>43.111150</td>\n",
              "      <td>44.313090</td>\n",
              "      <td>1735.439000</td>\n",
              "      <td>-0.005580</td>\n",
              "      <td>-0.315700</td>\n",
              "      <td>1944</td>\n",
              "      <td>2592</td>\n",
              "      <td>0.000599</td>\n",
              "      <td>0.003151</td>\n",
              "      <td>0.000015</td>\n",
              "      <td>1</td>\n",
              "    </tr>\n",
              "    <tr>\n",
              "      <th>620</th>\n",
              "      <td>165.224700</td>\n",
              "      <td>0.015771</td>\n",
              "      <td>0.161498</td>\n",
              "      <td>155.571800</td>\n",
              "      <td>147.979500</td>\n",
              "      <td>146.150500</td>\n",
              "      <td>33.793600</td>\n",
              "      <td>38.425390</td>\n",
              "      <td>39.861420</td>\n",
              "      <td>1374.465000</td>\n",
              "      <td>-0.047330</td>\n",
              "      <td>-0.201590</td>\n",
              "      <td>1944</td>\n",
              "      <td>2592</td>\n",
              "      <td>0.000140</td>\n",
              "      <td>0.000832</td>\n",
              "      <td>0.000000</td>\n",
              "      <td>1</td>\n",
              "    </tr>\n",
              "  </tbody>\n",
              "</table>\n",
              "<p>621 rows × 18 columns</p>\n",
              "</div>\n",
              "    <div class=\"colab-df-buttons\">\n",
              "\n",
              "  <div class=\"colab-df-container\">\n",
              "    <button class=\"colab-df-convert\" onclick=\"convertToInteractive('df-6bac28a3-d4cf-44d6-a9de-665ce095292d')\"\n",
              "            title=\"Convert this dataframe to an interactive table.\"\n",
              "            style=\"display:none;\">\n",
              "\n",
              "  <svg xmlns=\"http://www.w3.org/2000/svg\" height=\"24px\" viewBox=\"0 -960 960 960\">\n",
              "    <path d=\"M120-120v-720h720v720H120Zm60-500h600v-160H180v160Zm220 220h160v-160H400v160Zm0 220h160v-160H400v160ZM180-400h160v-160H180v160Zm440 0h160v-160H620v160ZM180-180h160v-160H180v160Zm440 0h160v-160H620v160Z\"/>\n",
              "  </svg>\n",
              "    </button>\n",
              "\n",
              "  <style>\n",
              "    .colab-df-container {\n",
              "      display:flex;\n",
              "      gap: 12px;\n",
              "    }\n",
              "\n",
              "    .colab-df-convert {\n",
              "      background-color: #E8F0FE;\n",
              "      border: none;\n",
              "      border-radius: 50%;\n",
              "      cursor: pointer;\n",
              "      display: none;\n",
              "      fill: #1967D2;\n",
              "      height: 32px;\n",
              "      padding: 0 0 0 0;\n",
              "      width: 32px;\n",
              "    }\n",
              "\n",
              "    .colab-df-convert:hover {\n",
              "      background-color: #E2EBFA;\n",
              "      box-shadow: 0px 1px 2px rgba(60, 64, 67, 0.3), 0px 1px 3px 1px rgba(60, 64, 67, 0.15);\n",
              "      fill: #174EA6;\n",
              "    }\n",
              "\n",
              "    .colab-df-buttons div {\n",
              "      margin-bottom: 4px;\n",
              "    }\n",
              "\n",
              "    [theme=dark] .colab-df-convert {\n",
              "      background-color: #3B4455;\n",
              "      fill: #D2E3FC;\n",
              "    }\n",
              "\n",
              "    [theme=dark] .colab-df-convert:hover {\n",
              "      background-color: #434B5C;\n",
              "      box-shadow: 0px 1px 3px 1px rgba(0, 0, 0, 0.15);\n",
              "      filter: drop-shadow(0px 1px 2px rgba(0, 0, 0, 0.3));\n",
              "      fill: #FFFFFF;\n",
              "    }\n",
              "  </style>\n",
              "\n",
              "    <script>\n",
              "      const buttonEl =\n",
              "        document.querySelector('#df-6bac28a3-d4cf-44d6-a9de-665ce095292d button.colab-df-convert');\n",
              "      buttonEl.style.display =\n",
              "        google.colab.kernel.accessAllowed ? 'block' : 'none';\n",
              "\n",
              "      async function convertToInteractive(key) {\n",
              "        const element = document.querySelector('#df-6bac28a3-d4cf-44d6-a9de-665ce095292d');\n",
              "        const dataTable =\n",
              "          await google.colab.kernel.invokeFunction('convertToInteractive',\n",
              "                                                    [key], {});\n",
              "        if (!dataTable) return;\n",
              "\n",
              "        const docLinkHtml = 'Like what you see? Visit the ' +\n",
              "          '<a target=\"_blank\" href=https://colab.research.google.com/notebooks/data_table.ipynb>data table notebook</a>'\n",
              "          + ' to learn more about interactive tables.';\n",
              "        element.innerHTML = '';\n",
              "        dataTable['output_type'] = 'display_data';\n",
              "        await google.colab.output.renderOutput(dataTable, element);\n",
              "        const docLink = document.createElement('div');\n",
              "        docLink.innerHTML = docLinkHtml;\n",
              "        element.appendChild(docLink);\n",
              "      }\n",
              "    </script>\n",
              "  </div>\n",
              "\n",
              "\n",
              "<div id=\"df-b4797872-8169-4ff0-bb92-88818d87050c\">\n",
              "  <button class=\"colab-df-quickchart\" onclick=\"quickchart('df-b4797872-8169-4ff0-bb92-88818d87050c')\"\n",
              "            title=\"Suggest charts\"\n",
              "            style=\"display:none;\">\n",
              "\n",
              "<svg xmlns=\"http://www.w3.org/2000/svg\" height=\"24px\"viewBox=\"0 0 24 24\"\n",
              "     width=\"24px\">\n",
              "    <g>\n",
              "        <path d=\"M19 3H5c-1.1 0-2 .9-2 2v14c0 1.1.9 2 2 2h14c1.1 0 2-.9 2-2V5c0-1.1-.9-2-2-2zM9 17H7v-7h2v7zm4 0h-2V7h2v10zm4 0h-2v-4h2v4z\"/>\n",
              "    </g>\n",
              "</svg>\n",
              "  </button>\n",
              "\n",
              "<style>\n",
              "  .colab-df-quickchart {\n",
              "      --bg-color: #E8F0FE;\n",
              "      --fill-color: #1967D2;\n",
              "      --hover-bg-color: #E2EBFA;\n",
              "      --hover-fill-color: #174EA6;\n",
              "      --disabled-fill-color: #AAA;\n",
              "      --disabled-bg-color: #DDD;\n",
              "  }\n",
              "\n",
              "  [theme=dark] .colab-df-quickchart {\n",
              "      --bg-color: #3B4455;\n",
              "      --fill-color: #D2E3FC;\n",
              "      --hover-bg-color: #434B5C;\n",
              "      --hover-fill-color: #FFFFFF;\n",
              "      --disabled-bg-color: #3B4455;\n",
              "      --disabled-fill-color: #666;\n",
              "  }\n",
              "\n",
              "  .colab-df-quickchart {\n",
              "    background-color: var(--bg-color);\n",
              "    border: none;\n",
              "    border-radius: 50%;\n",
              "    cursor: pointer;\n",
              "    display: none;\n",
              "    fill: var(--fill-color);\n",
              "    height: 32px;\n",
              "    padding: 0;\n",
              "    width: 32px;\n",
              "  }\n",
              "\n",
              "  .colab-df-quickchart:hover {\n",
              "    background-color: var(--hover-bg-color);\n",
              "    box-shadow: 0 1px 2px rgba(60, 64, 67, 0.3), 0 1px 3px 1px rgba(60, 64, 67, 0.15);\n",
              "    fill: var(--button-hover-fill-color);\n",
              "  }\n",
              "\n",
              "  .colab-df-quickchart-complete:disabled,\n",
              "  .colab-df-quickchart-complete:disabled:hover {\n",
              "    background-color: var(--disabled-bg-color);\n",
              "    fill: var(--disabled-fill-color);\n",
              "    box-shadow: none;\n",
              "  }\n",
              "\n",
              "  .colab-df-spinner {\n",
              "    border: 2px solid var(--fill-color);\n",
              "    border-color: transparent;\n",
              "    border-bottom-color: var(--fill-color);\n",
              "    animation:\n",
              "      spin 1s steps(1) infinite;\n",
              "  }\n",
              "\n",
              "  @keyframes spin {\n",
              "    0% {\n",
              "      border-color: transparent;\n",
              "      border-bottom-color: var(--fill-color);\n",
              "      border-left-color: var(--fill-color);\n",
              "    }\n",
              "    20% {\n",
              "      border-color: transparent;\n",
              "      border-left-color: var(--fill-color);\n",
              "      border-top-color: var(--fill-color);\n",
              "    }\n",
              "    30% {\n",
              "      border-color: transparent;\n",
              "      border-left-color: var(--fill-color);\n",
              "      border-top-color: var(--fill-color);\n",
              "      border-right-color: var(--fill-color);\n",
              "    }\n",
              "    40% {\n",
              "      border-color: transparent;\n",
              "      border-right-color: var(--fill-color);\n",
              "      border-top-color: var(--fill-color);\n",
              "    }\n",
              "    60% {\n",
              "      border-color: transparent;\n",
              "      border-right-color: var(--fill-color);\n",
              "    }\n",
              "    80% {\n",
              "      border-color: transparent;\n",
              "      border-right-color: var(--fill-color);\n",
              "      border-bottom-color: var(--fill-color);\n",
              "    }\n",
              "    90% {\n",
              "      border-color: transparent;\n",
              "      border-bottom-color: var(--fill-color);\n",
              "    }\n",
              "  }\n",
              "</style>\n",
              "\n",
              "  <script>\n",
              "    async function quickchart(key) {\n",
              "      const quickchartButtonEl =\n",
              "        document.querySelector('#' + key + ' button');\n",
              "      quickchartButtonEl.disabled = true;  // To prevent multiple clicks.\n",
              "      quickchartButtonEl.classList.add('colab-df-spinner');\n",
              "      try {\n",
              "        const charts = await google.colab.kernel.invokeFunction(\n",
              "            'suggestCharts', [key], {});\n",
              "      } catch (error) {\n",
              "        console.error('Error during call to suggestCharts:', error);\n",
              "      }\n",
              "      quickchartButtonEl.classList.remove('colab-df-spinner');\n",
              "      quickchartButtonEl.classList.add('colab-df-quickchart-complete');\n",
              "    }\n",
              "    (() => {\n",
              "      let quickchartButtonEl =\n",
              "        document.querySelector('#df-b4797872-8169-4ff0-bb92-88818d87050c button');\n",
              "      quickchartButtonEl.style.display =\n",
              "        google.colab.kernel.accessAllowed ? 'block' : 'none';\n",
              "    })();\n",
              "  </script>\n",
              "</div>\n",
              "\n",
              "  <div id=\"id_0136f2cf-6fd4-43ba-8244-6d8af83f0a4e\">\n",
              "    <style>\n",
              "      .colab-df-generate {\n",
              "        background-color: #E8F0FE;\n",
              "        border: none;\n",
              "        border-radius: 50%;\n",
              "        cursor: pointer;\n",
              "        display: none;\n",
              "        fill: #1967D2;\n",
              "        height: 32px;\n",
              "        padding: 0 0 0 0;\n",
              "        width: 32px;\n",
              "      }\n",
              "\n",
              "      .colab-df-generate:hover {\n",
              "        background-color: #E2EBFA;\n",
              "        box-shadow: 0px 1px 2px rgba(60, 64, 67, 0.3), 0px 1px 3px 1px rgba(60, 64, 67, 0.15);\n",
              "        fill: #174EA6;\n",
              "      }\n",
              "\n",
              "      [theme=dark] .colab-df-generate {\n",
              "        background-color: #3B4455;\n",
              "        fill: #D2E3FC;\n",
              "      }\n",
              "\n",
              "      [theme=dark] .colab-df-generate:hover {\n",
              "        background-color: #434B5C;\n",
              "        box-shadow: 0px 1px 3px 1px rgba(0, 0, 0, 0.15);\n",
              "        filter: drop-shadow(0px 1px 2px rgba(0, 0, 0, 0.3));\n",
              "        fill: #FFFFFF;\n",
              "      }\n",
              "    </style>\n",
              "    <button class=\"colab-df-generate\" onclick=\"generateWithVariable('df')\"\n",
              "            title=\"Generate code using this dataframe.\"\n",
              "            style=\"display:none;\">\n",
              "\n",
              "  <svg xmlns=\"http://www.w3.org/2000/svg\" height=\"24px\"viewBox=\"0 0 24 24\"\n",
              "       width=\"24px\">\n",
              "    <path d=\"M7,19H8.4L18.45,9,17,7.55,7,17.6ZM5,21V16.75L18.45,3.32a2,2,0,0,1,2.83,0l1.4,1.43a1.91,1.91,0,0,1,.58,1.4,1.91,1.91,0,0,1-.58,1.4L9.25,21ZM18.45,9,17,7.55Zm-12,3A5.31,5.31,0,0,0,4.9,8.1,5.31,5.31,0,0,0,1,6.5,5.31,5.31,0,0,0,4.9,4.9,5.31,5.31,0,0,0,6.5,1,5.31,5.31,0,0,0,8.1,4.9,5.31,5.31,0,0,0,12,6.5,5.46,5.46,0,0,0,6.5,12Z\"/>\n",
              "  </svg>\n",
              "    </button>\n",
              "    <script>\n",
              "      (() => {\n",
              "      const buttonEl =\n",
              "        document.querySelector('#id_0136f2cf-6fd4-43ba-8244-6d8af83f0a4e button.colab-df-generate');\n",
              "      buttonEl.style.display =\n",
              "        google.colab.kernel.accessAllowed ? 'block' : 'none';\n",
              "\n",
              "      buttonEl.onclick = () => {\n",
              "        google.colab.notebook.generateWithVariable('df');\n",
              "      }\n",
              "      })();\n",
              "    </script>\n",
              "  </div>\n",
              "\n",
              "    </div>\n",
              "  </div>\n"
            ],
            "application/vnd.google.colaboratory.intrinsic+json": {
              "type": "dataframe",
              "variable_name": "df",
              "summary": "{\n  \"name\": \"df\",\n  \"rows\": 621,\n  \"fields\": [\n    {\n      \"column\": \"Contrast\",\n      \"properties\": {\n        \"dtype\": \"number\",\n        \"std\": 71.08157346830309,\n        \"min\": 31.0629326077059,\n        \"max\": 360.9845,\n        \"num_unique_values\": 581,\n        \"samples\": [\n          140.4148,\n          68.5149470692211,\n          144.579525756346\n        ],\n        \"semantic_type\": \"\",\n        \"description\": \"\"\n      }\n    },\n    {\n      \"column\": \"Energy\",\n      \"properties\": {\n        \"dtype\": \"number\",\n        \"std\": 0.003635893170977566,\n        \"min\": 0.011153,\n        \"max\": 0.0249968944061474,\n        \"num_unique_values\": 580,\n        \"samples\": [\n          0.015545,\n          0.0179471353253585,\n          0.0221834092182994\n        ],\n        \"semantic_type\": \"\",\n        \"description\": \"\"\n      }\n    },\n    {\n      \"column\": \"Homogeneity\",\n      \"properties\": {\n        \"dtype\": \"number\",\n        \"std\": 0.056389762459000056,\n        \"min\": 0.110189,\n        \"max\": 0.319648798790667,\n        \"num_unique_values\": 581,\n        \"samples\": [\n          0.163045,\n          0.238202469711432,\n          0.276396403569573\n        ],\n        \"semantic_type\": \"\",\n        \"description\": \"\"\n      }\n    },\n    {\n      \"column\": \"Mean_R\",\n      \"properties\": {\n        \"dtype\": \"number\",\n        \"std\": 8.131409939953096,\n        \"min\": 110.2768,\n        \"max\": 165.6255,\n        \"num_unique_values\": 581,\n        \"samples\": [\n          150.5523,\n          138.519240319719,\n          139.870150888703\n        ],\n        \"semantic_type\": \"\",\n        \"description\": \"\"\n      }\n    },\n    {\n      \"column\": \"Mean_G\",\n      \"properties\": {\n        \"dtype\": \"number\",\n        \"std\": 8.229149488434812,\n        \"min\": 100.3715,\n        \"max\": 158.3103,\n        \"num_unique_values\": 581,\n        \"samples\": [\n          141.541,\n          140.067686924756,\n          133.211990846393\n        ],\n        \"semantic_type\": \"\",\n        \"description\": \"\"\n      }\n    },\n    {\n      \"column\": \"Mean_B\",\n      \"properties\": {\n        \"dtype\": \"number\",\n        \"std\": 9.430803259582772,\n        \"min\": 93.34206,\n        \"max\": 157.8338,\n        \"num_unique_values\": 581,\n        \"samples\": [\n          136.8947,\n          129.099581270219,\n          131.122013332535\n        ],\n        \"semantic_type\": \"\",\n        \"description\": \"\"\n      }\n    },\n    {\n      \"column\": \"Std_R\",\n      \"properties\": {\n        \"dtype\": \"number\",\n        \"std\": 3.426504984904126,\n        \"min\": 28.61072,\n        \"max\": 45.22173,\n        \"num_unique_values\": 581,\n        \"samples\": [\n          34.52305,\n          39.640174071177,\n          34.4767342541041\n        ],\n        \"semantic_type\": \"\",\n        \"description\": \"\"\n      }\n    },\n    {\n      \"column\": \"Std_G\",\n      \"properties\": {\n        \"dtype\": \"number\",\n        \"std\": 3.5257931253919694,\n        \"min\": 32.77602,\n        \"max\": 48.99381,\n        \"num_unique_values\": 581,\n        \"samples\": [\n          40.5443,\n          41.716269109786,\n          39.0263124263013\n        ],\n        \"semantic_type\": \"\",\n        \"description\": \"\"\n      }\n    },\n    {\n      \"column\": \"Std_B\",\n      \"properties\": {\n        \"dtype\": \"number\",\n        \"std\": 4.8037153825967795,\n        \"min\": 32.46964,\n        \"max\": 56.47203,\n        \"num_unique_values\": 581,\n        \"samples\": [\n          44.45955,\n          38.1159234027039,\n          43.5349309485299\n        ],\n        \"semantic_type\": \"\",\n        \"description\": \"\"\n      }\n    },\n    {\n      \"column\": \"var_intensity\",\n      \"properties\": {\n        \"dtype\": \"number\",\n        \"std\": 262.4454224614238,\n        \"min\": 1006.801,\n        \"max\": 2263.694,\n        \"num_unique_values\": 581,\n        \"samples\": [\n          1519.983,\n          1160.91205281195,\n          1508.27667461878\n        ],\n        \"semantic_type\": \"\",\n        \"description\": \"\"\n      }\n    },\n    {\n      \"column\": \"skewness\",\n      \"properties\": {\n        \"dtype\": \"number\",\n        \"std\": 0.21737528243022675,\n        \"min\": -0.44997757524287,\n        \"max\": 0.642049,\n        \"num_unique_values\": 581,\n        \"samples\": [\n          0.152845,\n          -0.260325459303581,\n          -0.067916999226934\n        ],\n        \"semantic_type\": \"\",\n        \"description\": \"\"\n      }\n    },\n    {\n      \"column\": \"kurtosis\",\n      \"properties\": {\n        \"dtype\": \"number\",\n        \"std\": 0.24871443148205455,\n        \"min\": -0.55942,\n        \"max\": 0.447254475670502,\n        \"num_unique_values\": 580,\n        \"samples\": [\n          -0.15498,\n          -0.0625177611782666,\n          -0.226255603848024\n        ],\n        \"semantic_type\": \"\",\n        \"description\": \"\"\n      }\n    },\n    {\n      \"column\": \"Height\",\n      \"properties\": {\n        \"dtype\": \"number\",\n        \"std\": 244,\n        \"min\": 1944,\n        \"max\": 2592,\n        \"num_unique_values\": 2,\n        \"samples\": [\n          2592,\n          1944\n        ],\n        \"semantic_type\": \"\",\n        \"description\": \"\"\n      }\n    },\n    {\n      \"column\": \"Width\",\n      \"properties\": {\n        \"dtype\": \"number\",\n        \"std\": 244,\n        \"min\": 1944,\n        \"max\": 2592,\n        \"num_unique_values\": 2,\n        \"samples\": [\n          1944,\n          2592\n        ],\n        \"semantic_type\": \"\",\n        \"description\": \"\"\n      }\n    },\n    {\n      \"column\": \"Color_Hist_1\",\n      \"properties\": {\n        \"dtype\": \"number\",\n        \"std\": 0.003464226463564604,\n        \"min\": 0.0,\n        \"max\": 0.061053,\n        \"num_unique_values\": 574,\n        \"samples\": [\n          0.000612568214533,\n          0.001177\n        ],\n        \"semantic_type\": \"\",\n        \"description\": \"\"\n      }\n    },\n    {\n      \"column\": \"Color_Hist_2\",\n      \"properties\": {\n        \"dtype\": \"number\",\n        \"std\": 0.010965684497711065,\n        \"min\": 1.58e-06,\n        \"max\": 0.198457,\n        \"num_unique_values\": 579,\n        \"samples\": [\n          0.00112680373703534,\n          2.47e-05\n        ],\n        \"semantic_type\": \"\",\n        \"description\": \"\"\n      }\n    },\n    {\n      \"column\": \"Color_Hist_3\",\n      \"properties\": {\n        \"dtype\": \"number\",\n        \"std\": 6.54492256588793e-05,\n        \"min\": 0.0,\n        \"max\": 0.000215,\n        \"num_unique_values\": 504,\n        \"samples\": [\n          1.34e-06,\n          5.62430125558475e-06\n        ],\n        \"semantic_type\": \"\",\n        \"description\": \"\"\n      }\n    },\n    {\n      \"column\": \"Outcome\",\n      \"properties\": {\n        \"dtype\": \"number\",\n        \"std\": 0,\n        \"min\": 0,\n        \"max\": 1,\n        \"num_unique_values\": 2,\n        \"samples\": [\n          1,\n          0\n        ],\n        \"semantic_type\": \"\",\n        \"description\": \"\"\n      }\n    }\n  ]\n}"
            }
          },
          "metadata": {},
          "execution_count": 2
        }
      ]
    },
    {
      "cell_type": "code",
      "source": [
        "from sklearn.model_selection import train_test_split\n",
        "from sklearn.preprocessing import StandardScaler"
      ],
      "metadata": {
        "id": "uIefWOUEKgjR"
      },
      "execution_count": null,
      "outputs": []
    },
    {
      "cell_type": "code",
      "source": [
        "x = df.drop(['Outcome'],axis=1)\n",
        "y = df['Outcome']"
      ],
      "metadata": {
        "id": "v17UT9gDKgle"
      },
      "execution_count": null,
      "outputs": []
    },
    {
      "cell_type": "code",
      "source": [
        "#Smote\n",
        "'''from imblearn.over_sampling import SMOTE\n",
        "\n",
        "# Assuming X is your feature matrix and y is the target variable (Outcome)\n",
        "smote = SMOTE()\n",
        "x, y = smote.fit_resample(x, y)'''"
      ],
      "metadata": {
        "colab": {
          "base_uri": "https://localhost:8080/",
          "height": 53
        },
        "id": "adYOT5mJ2U3v",
        "outputId": "7984f36d-4ef0-44cf-f2a0-67576e44d6f0"
      },
      "execution_count": null,
      "outputs": [
        {
          "output_type": "execute_result",
          "data": {
            "text/plain": [
              "'from imblearn.over_sampling import SMOTE\\n\\n# Assuming X is your feature matrix and y is the target variable (Outcome)\\nsmote = SMOTE()\\nx, y = smote.fit_resample(x, y)'"
            ],
            "application/vnd.google.colaboratory.intrinsic+json": {
              "type": "string"
            }
          },
          "metadata": {},
          "execution_count": 14
        }
      ]
    },
    {
      "cell_type": "code",
      "source": [
        "x_train,x_test,y_train,y_test = train_test_split(x,y,test_size=0.2,random_state=42)"
      ],
      "metadata": {
        "id": "DcI9_N4FKgo2"
      },
      "execution_count": null,
      "outputs": []
    },
    {
      "cell_type": "code",
      "source": [
        "scaler = StandardScaler()\n",
        "x_train = scaler.fit_transform(x_train)\n",
        "x_test = scaler.transform(x_test)"
      ],
      "metadata": {
        "id": "2SD_q0qHL_oW"
      },
      "execution_count": null,
      "outputs": []
    },
    {
      "cell_type": "code",
      "source": [
        "# Applying  Explainable AI (XAI) techniqupip install shapes"
      ],
      "metadata": {
        "id": "8owLrrL_ulgQ"
      },
      "execution_count": null,
      "outputs": []
    },
    {
      "cell_type": "code",
      "source": [
        "pip install shap"
      ],
      "metadata": {
        "id": "hiQe8q6Qulrp"
      },
      "execution_count": null,
      "outputs": []
    },
    {
      "cell_type": "code",
      "source": [
        "pip install lime"
      ],
      "metadata": {
        "colab": {
          "base_uri": "https://localhost:8080/"
        },
        "id": "9it8N9oaul52",
        "outputId": "8faca0a3-b484-4da9-c6a5-a5f90ed4f798"
      },
      "execution_count": null,
      "outputs": [
        {
          "output_type": "stream",
          "name": "stdout",
          "text": [
            "Installing collected packages: lime\n",
            "Successfully installed lime-0.2.0.1\n"
          ]
        }
      ]
    },
    {
      "cell_type": "code",
      "source": [
        "import pandas as pd\n",
        "from sklearn.model_selection import train_test_split\n",
        "from sklearn.preprocessing import StandardScaler\n",
        "from sklearn.ensemble import RandomForestClassifier\n",
        "import shap\n",
        "from lime import lime_tabular\n"
      ],
      "metadata": {
        "id": "FVi3F4-ovPXQ"
      },
      "execution_count": null,
      "outputs": []
    },
    {
      "cell_type": "code",
      "source": [
        "# Train a Random Forest Classifier\n",
        "model = RandomForestClassifier(random_state=42)\n",
        "model.fit(x_train, y_train)"
      ],
      "metadata": {
        "colab": {
          "base_uri": "https://localhost:8080/",
          "height": 80
        },
        "id": "WalJyxi4vFSa",
        "outputId": "931cac16-054b-4259-b352-b44db0d6fa9d"
      },
      "execution_count": null,
      "outputs": [
        {
          "output_type": "execute_result",
          "data": {
            "text/plain": [
              "RandomForestClassifier(random_state=42)"
            ],
            "text/html": [
              "<style>#sk-container-id-1 {\n",
              "  /* Definition of color scheme common for light and dark mode */\n",
              "  --sklearn-color-text: black;\n",
              "  --sklearn-color-line: gray;\n",
              "  /* Definition of color scheme for unfitted estimators */\n",
              "  --sklearn-color-unfitted-level-0: #fff5e6;\n",
              "  --sklearn-color-unfitted-level-1: #f6e4d2;\n",
              "  --sklearn-color-unfitted-level-2: #ffe0b3;\n",
              "  --sklearn-color-unfitted-level-3: chocolate;\n",
              "  /* Definition of color scheme for fitted estimators */\n",
              "  --sklearn-color-fitted-level-0: #f0f8ff;\n",
              "  --sklearn-color-fitted-level-1: #d4ebff;\n",
              "  --sklearn-color-fitted-level-2: #b3dbfd;\n",
              "  --sklearn-color-fitted-level-3: cornflowerblue;\n",
              "\n",
              "  /* Specific color for light theme */\n",
              "  --sklearn-color-text-on-default-background: var(--sg-text-color, var(--theme-code-foreground, var(--jp-content-font-color1, black)));\n",
              "  --sklearn-color-background: var(--sg-background-color, var(--theme-background, var(--jp-layout-color0, white)));\n",
              "  --sklearn-color-border-box: var(--sg-text-color, var(--theme-code-foreground, var(--jp-content-font-color1, black)));\n",
              "  --sklearn-color-icon: #696969;\n",
              "\n",
              "  @media (prefers-color-scheme: dark) {\n",
              "    /* Redefinition of color scheme for dark theme */\n",
              "    --sklearn-color-text-on-default-background: var(--sg-text-color, var(--theme-code-foreground, var(--jp-content-font-color1, white)));\n",
              "    --sklearn-color-background: var(--sg-background-color, var(--theme-background, var(--jp-layout-color0, #111)));\n",
              "    --sklearn-color-border-box: var(--sg-text-color, var(--theme-code-foreground, var(--jp-content-font-color1, white)));\n",
              "    --sklearn-color-icon: #878787;\n",
              "  }\n",
              "}\n",
              "\n",
              "#sk-container-id-1 {\n",
              "  color: var(--sklearn-color-text);\n",
              "}\n",
              "\n",
              "#sk-container-id-1 pre {\n",
              "  padding: 0;\n",
              "}\n",
              "\n",
              "#sk-container-id-1 input.sk-hidden--visually {\n",
              "  border: 0;\n",
              "  clip: rect(1px 1px 1px 1px);\n",
              "  clip: rect(1px, 1px, 1px, 1px);\n",
              "  height: 1px;\n",
              "  margin: -1px;\n",
              "  overflow: hidden;\n",
              "  padding: 0;\n",
              "  position: absolute;\n",
              "  width: 1px;\n",
              "}\n",
              "\n",
              "#sk-container-id-1 div.sk-dashed-wrapped {\n",
              "  border: 1px dashed var(--sklearn-color-line);\n",
              "  margin: 0 0.4em 0.5em 0.4em;\n",
              "  box-sizing: border-box;\n",
              "  padding-bottom: 0.4em;\n",
              "  background-color: var(--sklearn-color-background);\n",
              "}\n",
              "\n",
              "#sk-container-id-1 div.sk-container {\n",
              "  /* jupyter's `normalize.less` sets `[hidden] { display: none; }`\n",
              "     but bootstrap.min.css set `[hidden] { display: none !important; }`\n",
              "     so we also need the `!important` here to be able to override the\n",
              "     default hidden behavior on the sphinx rendered scikit-learn.org.\n",
              "     See: https://github.com/scikit-learn/scikit-learn/issues/21755 */\n",
              "  display: inline-block !important;\n",
              "  position: relative;\n",
              "}\n",
              "\n",
              "#sk-container-id-1 div.sk-text-repr-fallback {\n",
              "  display: none;\n",
              "}\n",
              "\n",
              "div.sk-parallel-item,\n",
              "div.sk-serial,\n",
              "div.sk-item {\n",
              "  /* draw centered vertical line to link estimators */\n",
              "  background-image: linear-gradient(var(--sklearn-color-text-on-default-background), var(--sklearn-color-text-on-default-background));\n",
              "  background-size: 2px 100%;\n",
              "  background-repeat: no-repeat;\n",
              "  background-position: center center;\n",
              "}\n",
              "\n",
              "/* Parallel-specific style estimator block */\n",
              "\n",
              "#sk-container-id-1 div.sk-parallel-item::after {\n",
              "  content: \"\";\n",
              "  width: 100%;\n",
              "  border-bottom: 2px solid var(--sklearn-color-text-on-default-background);\n",
              "  flex-grow: 1;\n",
              "}\n",
              "\n",
              "#sk-container-id-1 div.sk-parallel {\n",
              "  display: flex;\n",
              "  align-items: stretch;\n",
              "  justify-content: center;\n",
              "  background-color: var(--sklearn-color-background);\n",
              "  position: relative;\n",
              "}\n",
              "\n",
              "#sk-container-id-1 div.sk-parallel-item {\n",
              "  display: flex;\n",
              "  flex-direction: column;\n",
              "}\n",
              "\n",
              "#sk-container-id-1 div.sk-parallel-item:first-child::after {\n",
              "  align-self: flex-end;\n",
              "  width: 50%;\n",
              "}\n",
              "\n",
              "#sk-container-id-1 div.sk-parallel-item:last-child::after {\n",
              "  align-self: flex-start;\n",
              "  width: 50%;\n",
              "}\n",
              "\n",
              "#sk-container-id-1 div.sk-parallel-item:only-child::after {\n",
              "  width: 0;\n",
              "}\n",
              "\n",
              "/* Serial-specific style estimator block */\n",
              "\n",
              "#sk-container-id-1 div.sk-serial {\n",
              "  display: flex;\n",
              "  flex-direction: column;\n",
              "  align-items: center;\n",
              "  background-color: var(--sklearn-color-background);\n",
              "  padding-right: 1em;\n",
              "  padding-left: 1em;\n",
              "}\n",
              "\n",
              "\n",
              "/* Toggleable style: style used for estimator/Pipeline/ColumnTransformer box that is\n",
              "clickable and can be expanded/collapsed.\n",
              "- Pipeline and ColumnTransformer use this feature and define the default style\n",
              "- Estimators will overwrite some part of the style using the `sk-estimator` class\n",
              "*/\n",
              "\n",
              "/* Pipeline and ColumnTransformer style (default) */\n",
              "\n",
              "#sk-container-id-1 div.sk-toggleable {\n",
              "  /* Default theme specific background. It is overwritten whether we have a\n",
              "  specific estimator or a Pipeline/ColumnTransformer */\n",
              "  background-color: var(--sklearn-color-background);\n",
              "}\n",
              "\n",
              "/* Toggleable label */\n",
              "#sk-container-id-1 label.sk-toggleable__label {\n",
              "  cursor: pointer;\n",
              "  display: block;\n",
              "  width: 100%;\n",
              "  margin-bottom: 0;\n",
              "  padding: 0.5em;\n",
              "  box-sizing: border-box;\n",
              "  text-align: center;\n",
              "}\n",
              "\n",
              "#sk-container-id-1 label.sk-toggleable__label-arrow:before {\n",
              "  /* Arrow on the left of the label */\n",
              "  content: \"▸\";\n",
              "  float: left;\n",
              "  margin-right: 0.25em;\n",
              "  color: var(--sklearn-color-icon);\n",
              "}\n",
              "\n",
              "#sk-container-id-1 label.sk-toggleable__label-arrow:hover:before {\n",
              "  color: var(--sklearn-color-text);\n",
              "}\n",
              "\n",
              "/* Toggleable content - dropdown */\n",
              "\n",
              "#sk-container-id-1 div.sk-toggleable__content {\n",
              "  max-height: 0;\n",
              "  max-width: 0;\n",
              "  overflow: hidden;\n",
              "  text-align: left;\n",
              "  /* unfitted */\n",
              "  background-color: var(--sklearn-color-unfitted-level-0);\n",
              "}\n",
              "\n",
              "#sk-container-id-1 div.sk-toggleable__content.fitted {\n",
              "  /* fitted */\n",
              "  background-color: var(--sklearn-color-fitted-level-0);\n",
              "}\n",
              "\n",
              "#sk-container-id-1 div.sk-toggleable__content pre {\n",
              "  margin: 0.2em;\n",
              "  border-radius: 0.25em;\n",
              "  color: var(--sklearn-color-text);\n",
              "  /* unfitted */\n",
              "  background-color: var(--sklearn-color-unfitted-level-0);\n",
              "}\n",
              "\n",
              "#sk-container-id-1 div.sk-toggleable__content.fitted pre {\n",
              "  /* unfitted */\n",
              "  background-color: var(--sklearn-color-fitted-level-0);\n",
              "}\n",
              "\n",
              "#sk-container-id-1 input.sk-toggleable__control:checked~div.sk-toggleable__content {\n",
              "  /* Expand drop-down */\n",
              "  max-height: 200px;\n",
              "  max-width: 100%;\n",
              "  overflow: auto;\n",
              "}\n",
              "\n",
              "#sk-container-id-1 input.sk-toggleable__control:checked~label.sk-toggleable__label-arrow:before {\n",
              "  content: \"▾\";\n",
              "}\n",
              "\n",
              "/* Pipeline/ColumnTransformer-specific style */\n",
              "\n",
              "#sk-container-id-1 div.sk-label input.sk-toggleable__control:checked~label.sk-toggleable__label {\n",
              "  color: var(--sklearn-color-text);\n",
              "  background-color: var(--sklearn-color-unfitted-level-2);\n",
              "}\n",
              "\n",
              "#sk-container-id-1 div.sk-label.fitted input.sk-toggleable__control:checked~label.sk-toggleable__label {\n",
              "  background-color: var(--sklearn-color-fitted-level-2);\n",
              "}\n",
              "\n",
              "/* Estimator-specific style */\n",
              "\n",
              "/* Colorize estimator box */\n",
              "#sk-container-id-1 div.sk-estimator input.sk-toggleable__control:checked~label.sk-toggleable__label {\n",
              "  /* unfitted */\n",
              "  background-color: var(--sklearn-color-unfitted-level-2);\n",
              "}\n",
              "\n",
              "#sk-container-id-1 div.sk-estimator.fitted input.sk-toggleable__control:checked~label.sk-toggleable__label {\n",
              "  /* fitted */\n",
              "  background-color: var(--sklearn-color-fitted-level-2);\n",
              "}\n",
              "\n",
              "#sk-container-id-1 div.sk-label label.sk-toggleable__label,\n",
              "#sk-container-id-1 div.sk-label label {\n",
              "  /* The background is the default theme color */\n",
              "  color: var(--sklearn-color-text-on-default-background);\n",
              "}\n",
              "\n",
              "/* On hover, darken the color of the background */\n",
              "#sk-container-id-1 div.sk-label:hover label.sk-toggleable__label {\n",
              "  color: var(--sklearn-color-text);\n",
              "  background-color: var(--sklearn-color-unfitted-level-2);\n",
              "}\n",
              "\n",
              "/* Label box, darken color on hover, fitted */\n",
              "#sk-container-id-1 div.sk-label.fitted:hover label.sk-toggleable__label.fitted {\n",
              "  color: var(--sklearn-color-text);\n",
              "  background-color: var(--sklearn-color-fitted-level-2);\n",
              "}\n",
              "\n",
              "/* Estimator label */\n",
              "\n",
              "#sk-container-id-1 div.sk-label label {\n",
              "  font-family: monospace;\n",
              "  font-weight: bold;\n",
              "  display: inline-block;\n",
              "  line-height: 1.2em;\n",
              "}\n",
              "\n",
              "#sk-container-id-1 div.sk-label-container {\n",
              "  text-align: center;\n",
              "}\n",
              "\n",
              "/* Estimator-specific */\n",
              "#sk-container-id-1 div.sk-estimator {\n",
              "  font-family: monospace;\n",
              "  border: 1px dotted var(--sklearn-color-border-box);\n",
              "  border-radius: 0.25em;\n",
              "  box-sizing: border-box;\n",
              "  margin-bottom: 0.5em;\n",
              "  /* unfitted */\n",
              "  background-color: var(--sklearn-color-unfitted-level-0);\n",
              "}\n",
              "\n",
              "#sk-container-id-1 div.sk-estimator.fitted {\n",
              "  /* fitted */\n",
              "  background-color: var(--sklearn-color-fitted-level-0);\n",
              "}\n",
              "\n",
              "/* on hover */\n",
              "#sk-container-id-1 div.sk-estimator:hover {\n",
              "  /* unfitted */\n",
              "  background-color: var(--sklearn-color-unfitted-level-2);\n",
              "}\n",
              "\n",
              "#sk-container-id-1 div.sk-estimator.fitted:hover {\n",
              "  /* fitted */\n",
              "  background-color: var(--sklearn-color-fitted-level-2);\n",
              "}\n",
              "\n",
              "/* Specification for estimator info (e.g. \"i\" and \"?\") */\n",
              "\n",
              "/* Common style for \"i\" and \"?\" */\n",
              "\n",
              ".sk-estimator-doc-link,\n",
              "a:link.sk-estimator-doc-link,\n",
              "a:visited.sk-estimator-doc-link {\n",
              "  float: right;\n",
              "  font-size: smaller;\n",
              "  line-height: 1em;\n",
              "  font-family: monospace;\n",
              "  background-color: var(--sklearn-color-background);\n",
              "  border-radius: 1em;\n",
              "  height: 1em;\n",
              "  width: 1em;\n",
              "  text-decoration: none !important;\n",
              "  margin-left: 1ex;\n",
              "  /* unfitted */\n",
              "  border: var(--sklearn-color-unfitted-level-1) 1pt solid;\n",
              "  color: var(--sklearn-color-unfitted-level-1);\n",
              "}\n",
              "\n",
              ".sk-estimator-doc-link.fitted,\n",
              "a:link.sk-estimator-doc-link.fitted,\n",
              "a:visited.sk-estimator-doc-link.fitted {\n",
              "  /* fitted */\n",
              "  border: var(--sklearn-color-fitted-level-1) 1pt solid;\n",
              "  color: var(--sklearn-color-fitted-level-1);\n",
              "}\n",
              "\n",
              "/* On hover */\n",
              "div.sk-estimator:hover .sk-estimator-doc-link:hover,\n",
              ".sk-estimator-doc-link:hover,\n",
              "div.sk-label-container:hover .sk-estimator-doc-link:hover,\n",
              ".sk-estimator-doc-link:hover {\n",
              "  /* unfitted */\n",
              "  background-color: var(--sklearn-color-unfitted-level-3);\n",
              "  color: var(--sklearn-color-background);\n",
              "  text-decoration: none;\n",
              "}\n",
              "\n",
              "div.sk-estimator.fitted:hover .sk-estimator-doc-link.fitted:hover,\n",
              ".sk-estimator-doc-link.fitted:hover,\n",
              "div.sk-label-container:hover .sk-estimator-doc-link.fitted:hover,\n",
              ".sk-estimator-doc-link.fitted:hover {\n",
              "  /* fitted */\n",
              "  background-color: var(--sklearn-color-fitted-level-3);\n",
              "  color: var(--sklearn-color-background);\n",
              "  text-decoration: none;\n",
              "}\n",
              "\n",
              "/* Span, style for the box shown on hovering the info icon */\n",
              ".sk-estimator-doc-link span {\n",
              "  display: none;\n",
              "  z-index: 9999;\n",
              "  position: relative;\n",
              "  font-weight: normal;\n",
              "  right: .2ex;\n",
              "  padding: .5ex;\n",
              "  margin: .5ex;\n",
              "  width: min-content;\n",
              "  min-width: 20ex;\n",
              "  max-width: 50ex;\n",
              "  color: var(--sklearn-color-text);\n",
              "  box-shadow: 2pt 2pt 4pt #999;\n",
              "  /* unfitted */\n",
              "  background: var(--sklearn-color-unfitted-level-0);\n",
              "  border: .5pt solid var(--sklearn-color-unfitted-level-3);\n",
              "}\n",
              "\n",
              ".sk-estimator-doc-link.fitted span {\n",
              "  /* fitted */\n",
              "  background: var(--sklearn-color-fitted-level-0);\n",
              "  border: var(--sklearn-color-fitted-level-3);\n",
              "}\n",
              "\n",
              ".sk-estimator-doc-link:hover span {\n",
              "  display: block;\n",
              "}\n",
              "\n",
              "/* \"?\"-specific style due to the `<a>` HTML tag */\n",
              "\n",
              "#sk-container-id-1 a.estimator_doc_link {\n",
              "  float: right;\n",
              "  font-size: 1rem;\n",
              "  line-height: 1em;\n",
              "  font-family: monospace;\n",
              "  background-color: var(--sklearn-color-background);\n",
              "  border-radius: 1rem;\n",
              "  height: 1rem;\n",
              "  width: 1rem;\n",
              "  text-decoration: none;\n",
              "  /* unfitted */\n",
              "  color: var(--sklearn-color-unfitted-level-1);\n",
              "  border: var(--sklearn-color-unfitted-level-1) 1pt solid;\n",
              "}\n",
              "\n",
              "#sk-container-id-1 a.estimator_doc_link.fitted {\n",
              "  /* fitted */\n",
              "  border: var(--sklearn-color-fitted-level-1) 1pt solid;\n",
              "  color: var(--sklearn-color-fitted-level-1);\n",
              "}\n",
              "\n",
              "/* On hover */\n",
              "#sk-container-id-1 a.estimator_doc_link:hover {\n",
              "  /* unfitted */\n",
              "  background-color: var(--sklearn-color-unfitted-level-3);\n",
              "  color: var(--sklearn-color-background);\n",
              "  text-decoration: none;\n",
              "}\n",
              "\n",
              "#sk-container-id-1 a.estimator_doc_link.fitted:hover {\n",
              "  /* fitted */\n",
              "  background-color: var(--sklearn-color-fitted-level-3);\n",
              "}\n",
              "</style><div id=\"sk-container-id-1\" class=\"sk-top-container\"><div class=\"sk-text-repr-fallback\"><pre>RandomForestClassifier(random_state=42)</pre><b>In a Jupyter environment, please rerun this cell to show the HTML representation or trust the notebook. <br />On GitHub, the HTML representation is unable to render, please try loading this page with nbviewer.org.</b></div><div class=\"sk-container\" hidden><div class=\"sk-item\"><div class=\"sk-estimator fitted sk-toggleable\"><input class=\"sk-toggleable__control sk-hidden--visually\" id=\"sk-estimator-id-1\" type=\"checkbox\" checked><label for=\"sk-estimator-id-1\" class=\"sk-toggleable__label fitted sk-toggleable__label-arrow fitted\">&nbsp;&nbsp;RandomForestClassifier<a class=\"sk-estimator-doc-link fitted\" rel=\"noreferrer\" target=\"_blank\" href=\"https://scikit-learn.org/1.5/modules/generated/sklearn.ensemble.RandomForestClassifier.html\">?<span>Documentation for RandomForestClassifier</span></a><span class=\"sk-estimator-doc-link fitted\">i<span>Fitted</span></span></label><div class=\"sk-toggleable__content fitted\"><pre>RandomForestClassifier(random_state=42)</pre></div> </div></div></div></div>"
            ]
          },
          "metadata": {},
          "execution_count": 13
        }
      ]
    },
    {
      "cell_type": "code",
      "source": [
        "import pandas as pd\n",
        "from sklearn.model_selection import train_test_split\n",
        "from sklearn.preprocessing import StandardScaler\n",
        "from sklearn.ensemble import RandomForestClassifier\n",
        "import shap\n",
        "from lime import lime_tabular\n",
        "\n",
        "# Step 1: Load data\n",
        "df = pd.read_excel('/content/NEWDataJeera.xlsx')\n",
        "x = df.drop(['Outcome'], axis=1)\n",
        "y = df['Outcome']\n",
        "\n",
        "# Step 2: Split and scale data\n",
        "x_train, x_test, y_train, y_test = train_test_split(x, y, test_size=0.2, random_state=42)\n",
        "scaler = StandardScaler()\n",
        "x_train = scaler.fit_transform(x_train)\n",
        "x_test = scaler.transform(x_test)\n",
        "\n",
        "# Step 3: Train the Random Forest Classifier\n",
        "model = RandomForestClassifier(random_state=42)\n",
        "model.fit(x_train, y_train)\n",
        "\n",
        "# Step 4: Explain Model with SHAP\n",
        "# Initialize the SHAP explainer\n",
        "explainer = shap.TreeExplainer(model)\n",
        "\n",
        "# Calculate SHAP values for the test set\n",
        "shap_values = explainer.shap_values(x_test)\n",
        "\n",
        "# Global Interpretability with SHAP Summary Plot\n",
        "# Check if shap_values is a list (multi-class case) or single array (binary/single-class case)\n",
        "if isinstance(shap_values, list):\n",
        "    shap.summary_plot(shap_values[1], x_test, feature_names=x.columns)  # For multi-class or binary, using class 1\n",
        "else:\n",
        "    shap.summary_plot(shap_values, x_test, feature_names=x.columns)\n",
        "\n",
        "# Step 5: Local Interpretation for a Specific Prediction with SHAP\n",
        "# Selecting a single instance (e.g., instance 0) and class\n",
        "instance_idx = 0  # Index of the instance to explain\n",
        "class_idx = 1  # Class index for binary classification (1 for the positive class)\n",
        "\n",
        "# Display the shapes of shap_values and expected_value for debugging\n",
        "print(f\"Shape of shap_values: {[s.shape for s in shap_values] if isinstance(shap_values, list) else shap_values.shape}\")\n",
        "print(f\"Shape of explainer.expected_value: {explainer.expected_value}\")\n",
        "\n",
        "# Extract SHAP values and base value for a single instance and class\n",
        "if isinstance(shap_values, list):  # For multi-class case\n",
        "    single_shap_values = shap_values[class_idx][instance_idx]\n",
        "    single_base_value = explainer.expected_value[class_idx]\n",
        "else:  # For single class or binary classification\n",
        "    single_shap_values = shap_values[instance_idx]\n",
        "    single_base_value = explainer.expected_value\n",
        "\n",
        "# Generate the waterfall plot\n",
        "shap.waterfall_plot(shap.Explanation(\n",
        "    values=single_shap_values,\n",
        "    base_values=single_base_value,\n",
        "    data=x_test[instance_idx],\n",
        "    feature_names=x.columns))\n",
        "\n",
        "# Step 6: Explain Model with LIME for a Single Instance (Optional)\n",
        "# Initialize the LIME explainer\n",
        "lime_explainer = lime_tabular.LimeTabularExplainer(x_train, feature_names=x.columns, class_names=['0', '1'], mode='classification')\n",
        "\n",
        "# Explain a single prediction (e.g., the first instance in the test set)\n",
        "explanation = lime_explainer.explain_instance(x_test[instance_idx], model.predict_proba)\n",
        "explanation.show_in_notebook()\n"
      ],
      "metadata": {
        "colab": {
          "base_uri": "https://localhost:8080/",
          "height": 1000
        },
        "id": "8Zg30aKovFUU",
        "outputId": "3672645a-f5bc-4938-829a-b2fb65cb0d7f"
      },
      "execution_count": null,
      "outputs": [
        {
          "output_type": "display_data",
          "data": {
            "text/plain": [
              "<Figure size 1150x660 with 2 Axes>"
            ],
            "image/png": "[encoded data removed]"
          },
          "metadata": {}
        },
        {
          "output_type": "stream",
          "name": "stdout",
          "text": [
            "Shape of shap_values: (125, 17, 2)\n",
            "Shape of explainer.expected_value: [0.62016129 0.37983871]\n"
          ]
        },
        {
          "output_type": "error",
          "ename": "ValueError",
          "evalue": "The waterfall plot can currently only plot a single explanation, but a matrix of explanations (shape (17, 2)) was passed! Perhaps try `shap.plots.waterfall(shap_values[0])` or for multi-output models, try `shap.plots.waterfall(shap_values[0, 0])`.",
          "traceback": [
            "\u001b[0;31m---------------------------------------------------------------------------\u001b[0m",
            "\u001b[0;31mValueError\u001b[0m                                Traceback (most recent call last)",
            "\u001b[0;32m<ipython-input-20-915ed786928d>\u001b[0m in \u001b[0;36m<cell line: 55>\u001b[0;34m()\u001b[0m\n\u001b[1;32m     53\u001b[0m \u001b[0;34m\u001b[0m\u001b[0m\n\u001b[1;32m     54\u001b[0m \u001b[0;31m# Generate the waterfall plot\u001b[0m\u001b[0;34m\u001b[0m\u001b[0;34m\u001b[0m\u001b[0m\n\u001b[0;32m---> 55\u001b[0;31m shap.waterfall_plot(shap.Explanation(\n\u001b[0m\u001b[1;32m     56\u001b[0m     \u001b[0mvalues\u001b[0m\u001b[0;34m=\u001b[0m\u001b[0msingle_shap_values\u001b[0m\u001b[0;34m,\u001b[0m\u001b[0;34m\u001b[0m\u001b[0;34m\u001b[0m\u001b[0m\n\u001b[1;32m     57\u001b[0m     \u001b[0mbase_values\u001b[0m\u001b[0;34m=\u001b[0m\u001b[0msingle_base_value\u001b[0m\u001b[0;34m,\u001b[0m\u001b[0;34m\u001b[0m\u001b[0;34m\u001b[0m\u001b[0m\n",
            "\u001b[0;32m/usr/local/lib/python3.10/dist-packages/shap/plots/_waterfall.py\u001b[0m in \u001b[0;36mwaterfall\u001b[0;34m(shap_values, max_display, show)\u001b[0m\n\u001b[1;32m     65\u001b[0m             \u001b[0;34m\"try `shap.plots.waterfall(shap_values[0, 0])`.\"\u001b[0m\u001b[0;34m\u001b[0m\u001b[0;34m\u001b[0m\u001b[0m\n\u001b[1;32m     66\u001b[0m         )\n\u001b[0;32m---> 67\u001b[0;31m         \u001b[0;32mraise\u001b[0m \u001b[0mValueError\u001b[0m\u001b[0;34m(\u001b[0m\u001b[0memsg\u001b[0m\u001b[0;34m)\u001b[0m\u001b[0;34m\u001b[0m\u001b[0;34m\u001b[0m\u001b[0m\n\u001b[0m\u001b[1;32m     68\u001b[0m \u001b[0;34m\u001b[0m\u001b[0m\n\u001b[1;32m     69\u001b[0m     \u001b[0mbase_values\u001b[0m \u001b[0;34m=\u001b[0m \u001b[0mfloat\u001b[0m\u001b[0;34m(\u001b[0m\u001b[0mshap_values\u001b[0m\u001b[0;34m.\u001b[0m\u001b[0mbase_values\u001b[0m\u001b[0;34m)\u001b[0m\u001b[0;34m\u001b[0m\u001b[0;34m\u001b[0m\u001b[0m\n",
            "\u001b[0;31mValueError\u001b[0m: The waterfall plot can currently only plot a single explanation, but a matrix of explanations (shape (17, 2)) was passed! Perhaps try `shap.plots.waterfall(shap_values[0])` or for multi-output models, try `shap.plots.waterfall(shap_values[0, 0])`."
          ]
        }
      ]
    },
    {
      "cell_type": "code",
      "source": [
        "import pandas as pd\n",
        "from sklearn.model_selection import train_test_split\n",
        "from sklearn.preprocessing import StandardScaler\n",
        "from sklearn.ensemble import RandomForestClassifier\n",
        "import shap\n",
        "from lime import lime_tabular\n",
        "import numpy as np\n",
        "\n",
        "# Step 1: Load data\n",
        "df = pd.read_excel('/content/NEWDataJeera.xlsx')\n",
        "x = df.drop(['Outcome'], axis=1)\n",
        "y = df['Outcome']\n",
        "\n",
        "# Step 2: Split and scale data\n",
        "x_train, x_test, y_train, y_test = train_test_split(x, y, test_size=0.2, random_state=42)\n",
        "scaler = StandardScaler()\n",
        "x_train = scaler.fit_transform(x_train)\n",
        "x_test = scaler.transform(x_test)\n",
        "\n",
        "# Step 3: Train the Random Forest Classifier\n",
        "model = RandomForestClassifier(random_state=42)\n",
        "model.fit(x_train, y_train)\n",
        "\n",
        "# Step 4: Initialize SHAP explainer\n",
        "explainer = shap.TreeExplainer(model)\n",
        "\n",
        "# Step 5: Calculate SHAP values for a single instance\n",
        "instance_idx = 0\n",
        "shap_values = explainer.shap_values(x_test)\n",
        "\n",
        "# Print shapes for debugging\n",
        "print(\"SHAP values shape:\", np.array(shap_values).shape)\n",
        "print(\"Expected value shape:\", np.array(explainer.expected_value).shape)\n",
        "\n",
        "# Create waterfall plot for binary classification\n",
        "# For binary classification, we'll use class 1 (positive class)\n",
        "instance_shap_values = shap_values[1][instance_idx]  # Get SHAP values for positive class\n",
        "instance_expected_value = explainer.expected_value[1]  # Get expected value for positive class\n",
        "\n",
        "# Create explanation object correctly\n",
        "explanation = shap.Explanation(\n",
        "    values=instance_shap_values,  # SHAP values for single instance\n",
        "    base_values=instance_expected_value,  # Expected value for positive class\n",
        "    data=x_test[instance_idx],  # Feature values for the instance\n",
        "    feature_names=list(x.columns)  # Feature names\n",
        ")\n",
        "\n",
        "# Generate waterfall plot\n",
        "shap.waterfall_plot(explanation)\n",
        "\n",
        "# Optional: Print feature contributions\n",
        "print(\"\\nFeature Contributions:\")\n",
        "for fname, fvalue in zip(x.columns, instance_shap_values):\n",
        "    print(f\"{fname}: {fvalue:.4f}\")"
      ],
      "metadata": {
        "colab": {
          "base_uri": "https://localhost:8080/",
          "height": 413
        },
        "id": "nxY8aMIGvFW1",
        "outputId": "563ff3fe-116a-46d3-fc82-ca8de1da82fa"
      },
      "execution_count": null,
      "outputs": [
        {
          "output_type": "stream",
          "name": "stdout",
          "text": [
            "SHAP values shape: (125, 17, 2)\n",
            "Expected value shape: (2,)\n"
          ]
        },
        {
          "output_type": "display_data",
          "data": {
            "text/plain": [
              "<Figure size 800x250 with 3 Axes>"
            ],
            "image/png": "[encoded data removed]"
          },
          "metadata": {}
        },
        {
          "output_type": "stream",
          "name": "stdout",
          "text": [
            "\n",
            "Feature Contributions:\n",
            "Contrast: 0.0003\n",
            "Energy: -0.0003\n"
          ]
        }
      ]
    },
    {
      "cell_type": "code",
      "source": [],
      "metadata": {
        "id": "3ptWbBqkvFY5"
      },
      "execution_count": null,
      "outputs": []
    },
    {
      "cell_type": "code",
      "source": [],
      "metadata": {
        "id": "Ki7gLHPMvFbM"
      },
      "execution_count": null,
      "outputs": []
    },
    {
      "cell_type": "code",
      "source": [],
      "metadata": {
        "id": "7kqwgpHgvFdF"
      },
      "execution_count": null,
      "outputs": []
    },
    {
      "cell_type": "code",
      "source": [],
      "metadata": {
        "id": "w2u3td9avFfP"
      },
      "execution_count": null,
      "outputs": []
    },
    {
      "cell_type": "code",
      "source": [],
      "metadata": {
        "id": "hQ3UqLfXvFhb"
      },
      "execution_count": null,
      "outputs": []
    },
    {
      "cell_type": "code",
      "source": [],
      "metadata": {
        "id": "4JcDQ0UVvFky"
      },
      "execution_count": null,
      "outputs": []
    },
    {
      "cell_type": "code",
      "source": [
        "# This here ( explainable AI (XAI) techniques)"
      ],
      "metadata": {
        "id": "Ac3RuMNlul_Q"
      },
      "execution_count": null,
      "outputs": []
    },
    {
      "cell_type": "code",
      "source": [
        "# BOA Parameters\n",
        "population_size = 20  # Number of butterflies\n",
        "iterations = 10  # Number of iterations\n",
        "a = 0.01  # Sensory modality\n",
        "c = 0.01  # Constant for butterfly movement\n",
        "p = 0.8  # Probability for butterfly's movement"
      ],
      "metadata": {
        "id": "e5TCIY8dMAJ4"
      },
      "execution_count": null,
      "outputs": []
    },
    {
      "cell_type": "code",
      "source": [
        "import numpy as np"
      ],
      "metadata": {
        "id": "dJ7V7-HnMAMS"
      },
      "execution_count": null,
      "outputs": []
    },
    {
      "cell_type": "code",
      "source": [
        "import numpy as np\n",
        "import pandas as pd\n",
        "from sklearn.model_selection import train_test_split\n",
        "from sklearn.ensemble import RandomForestClassifier\n",
        "from sklearn.metrics import accuracy_score"
      ],
      "metadata": {
        "id": "Dcyc-UzyMASN"
      },
      "execution_count": null,
      "outputs": []
    },
    {
      "cell_type": "code",
      "source": [
        "# Initialize random hyperparameters (Butterfly positions)\n",
        "butterflies = np.random.randint(10, 200, size=(population_size, 3))  # Random hyperparameter sets\n",
        "\n",
        "# Fitness function (objective function to maximize)\n",
        "def fitness_function(hyperparameters):\n",
        "    n_estimators, max_depth, min_samples_split = hyperparameters\n",
        "\n",
        "    # Train Random Forest Classifier with these hyperparameters\n",
        "    clf = RandomForestClassifier(n_estimators=n_estimators,\n",
        "                                 max_depth=max_depth,\n",
        "                                 min_samples_split=min_samples_split,\n",
        "                                 random_state=42)\n",
        "    clf.fit(x_train, y_train)\n",
        "\n",
        "    # Predict on the test set\n",
        "    y_pred = clf.predict(x_test)\n",
        "\n",
        "    # Calculate accuracy as fitness score\n",
        "    accuracy = accuracy_score(y_test, y_pred)\n",
        "    return accuracy, clf  # Returning both accuracy and the trained classifier"
      ],
      "metadata": {
        "id": "FylmuGe6Mgxu"
      },
      "execution_count": null,
      "outputs": []
    },
    {
      "cell_type": "code",
      "source": [
        "# BOA Optimization Loop\n",
        "best_hyperparameters = None\n",
        "best_fitness = 0\n",
        "best_classifier = None\n",
        "\n",
        "for iteration in range(iterations):\n",
        "    for i in range(population_size):\n",
        "        # Calculate fitness for each butterfly\n",
        "        fitness, clf = fitness_function(butterflies[i])\n",
        "\n",
        "        # Update the best solution if current one is better\n",
        "        if fitness > best_fitness:\n",
        "            best_fitness = fitness\n",
        "            best_hyperparameters = butterflies[i]\n",
        "            best_classifier = clf\n",
        "\n",
        "        # Update butterfly's position using the BOA formula\n",
        "        for j in range(3):  # Update each hyperparameter\n",
        "            if np.random.random() > p:\n",
        "                # Global search\n",
        "                butterflies[i][j] += a * butterflies[i][j] * np.random.randn()\n",
        "            else:\n",
        "                # Local search\n",
        "                butterflies[i][j] += c * (best_hyperparameters[j] - butterflies[i][j]) * np.random.randn()\n",
        "\n",
        "    print(f\"Iteration {iteration+1}/{iterations}, Best Accuracy: {best_fitness:.4f}\")\n",
        "\n",
        "# Final optimal hyperparameters\n",
        "print(f\"Best Hyperparameters found: {best_hyperparameters}\")"
      ],
      "metadata": {
        "colab": {
          "base_uri": "https://localhost:8080/"
        },
        "id": "YEaN22YfMiuV",
        "outputId": "8745036e-132c-48c7-b49c-7a607c1786f1"
      },
      "execution_count": null,
      "outputs": [
        {
          "output_type": "stream",
          "name": "stdout",
          "text": [
            "Iteration 1/10, Best Accuracy: 0.9760\n",
            "Iteration 2/10, Best Accuracy: 0.9760\n",
            "Iteration 3/10, Best Accuracy: 0.9760\n",
            "Iteration 4/10, Best Accuracy: 0.9760\n",
            "Iteration 5/10, Best Accuracy: 0.9760\n",
            "Iteration 6/10, Best Accuracy: 0.9760\n",
            "Iteration 7/10, Best Accuracy: 0.9760\n",
            "Iteration 8/10, Best Accuracy: 0.9760\n",
            "Iteration 9/10, Best Accuracy: 0.9760\n",
            "Iteration 10/10, Best Accuracy: 0.9760\n",
            "Best Hyperparameters found: [132  55  17]\n"
          ]
        }
      ]
    },
    {
      "cell_type": "code",
      "source": [
        "from sklearn.metrics import accuracy_score, roc_auc_score, roc_curve\n",
        "import matplotlib.pyplot as plt"
      ],
      "metadata": {
        "id": "-7bByz7g4tzL"
      },
      "execution_count": null,
      "outputs": []
    },
    {
      "cell_type": "code",
      "source": [
        "y_pred_proba = best_classifier.predict_proba(x_test)[:, 1]"
      ],
      "metadata": {
        "id": "xchPOdT84t1e"
      },
      "execution_count": null,
      "outputs": []
    },
    {
      "cell_type": "code",
      "source": [
        "# Calculate AUC-ROC score\n",
        "auc = roc_auc_score(y_test, y_pred_proba)\n",
        "print(f\"AUC-ROC Score: {auc:.4f}\")\n",
        "\n",
        "# --- Plotting the ROC Curve ---\n",
        "fpr, tpr, thresholds = roc_curve(y_test, y_pred_proba)\n",
        "plt.figure()\n",
        "plt.plot(fpr, tpr, color='darkorange', lw=2, label=f'ROC curve (AUC = {auc:.4f})')\n",
        "plt.plot([0, 1], [0, 1], color='navy', lw=2, linestyle='--')\n",
        "plt.xlim([0.0, 1.0])\n",
        "plt.ylim([0.0, 1.05])\n",
        "plt.xlabel('False Positive Rate')\n",
        "plt.ylabel('True Positive Rate')\n",
        "plt.title('Receiver Operating Characteristic (ROC) Curve')\n",
        "plt.legend(loc=\"lower right\")\n",
        "plt.show()"
      ],
      "metadata": {
        "colab": {
          "base_uri": "https://localhost:8080/",
          "height": 489
        },
        "id": "dunCZRYR4t30",
        "outputId": "7c3ba0d9-3367-46dc-e779-12d4927e8387"
      },
      "execution_count": null,
      "outputs": [
        {
          "output_type": "stream",
          "name": "stdout",
          "text": [
            "AUC-ROC Score: 0.9983\n"
          ]
        },
        {
          "output_type": "display_data",
          "data": {
            "text/plain": [
              "<Figure size 640x480 with 1 Axes>"
            ],
            "image/png": "[encoded data removed]"
          },
          "metadata": {}
        }
      ]
    },
    {
      "cell_type": "code",
      "source": [
        "from sklearn.metrics import confusion_matrix, accuracy_score, precision_score, recall_score, f1_score, roc_auc_score, classification_report"
      ],
      "metadata": {
        "id": "Gjll2zOz4t57"
      },
      "execution_count": null,
      "outputs": []
    },
    {
      "cell_type": "code",
      "source": [
        "y_pred = clf.predict(x_test)"
      ],
      "metadata": {
        "id": "RFnGYV0g4t72"
      },
      "execution_count": null,
      "outputs": []
    },
    {
      "cell_type": "code",
      "source": [
        "# Confusion Matrix\n",
        "cm = confusion_matrix(y_test, y_pred)\n",
        "print(\"Confusion Matrix:\\n\", cm)\n",
        "\n",
        "# Accuracy\n",
        "accuracy = accuracy_score(y_test, y_pred)\n",
        "print(f\"Accuracy: {accuracy:.4f}\")\n",
        "\n",
        "# Precision\n",
        "precision = precision_score(y_test, y_pred)\n",
        "print(f\"Precision: {precision:.4f}\")\n",
        "\n",
        "# Recall\n",
        "recall = recall_score(y_test, y_pred)\n",
        "print(f\"Recall: {recall:.4f}\")\n",
        "\n",
        "# F1-Score\n",
        "f1 = f1_score(y_test, y_pred)\n",
        "print(f\"F1-Score: {f1:.4f}\")"
      ],
      "metadata": {
        "colab": {
          "base_uri": "https://localhost:8080/"
        },
        "id": "z96QOSeC4uAu",
        "outputId": "143afb4d-59d0-488a-dcc0-42f92a688627"
      },
      "execution_count": null,
      "outputs": [
        {
          "output_type": "stream",
          "name": "stdout",
          "text": [
            "Confusion Matrix:\n",
            " [[91  2]\n",
            " [ 3 29]]\n",
            "Accuracy: 0.9600\n",
            "Precision: 0.9355\n",
            "Recall: 0.9062\n",
            "F1-Score: 0.9206\n"
          ]
        }
      ]
    },
    {
      "cell_type": "code",
      "source": [
        "# Classification Report\n",
        "print(\"Classification Report:\\n\", classification_report(y_test, y_pred))"
      ],
      "metadata": {
        "colab": {
          "base_uri": "https://localhost:8080/"
        },
        "id": "B8s930gR7ZYL",
        "outputId": "54909eda-1e2e-4b3d-e747-986d6cfc878c"
      },
      "execution_count": null,
      "outputs": [
        {
          "output_type": "stream",
          "name": "stdout",
          "text": [
            "Classification Report:\n",
            "               precision    recall  f1-score   support\n",
            "\n",
            "           0       0.97      0.98      0.97        93\n",
            "           1       0.94      0.91      0.92        32\n",
            "\n",
            "    accuracy                           0.96       125\n",
            "   macro avg       0.95      0.94      0.95       125\n",
            "weighted avg       0.96      0.96      0.96       125\n",
            "\n"
          ]
        }
      ]
    },
    {
      "cell_type": "code",
      "source": [
        "import numpy as np\n",
        "import pandas as pd\n",
        "from sklearn.ensemble import RandomForestClassifier\n",
        "from sklearn.metrics import accuracy_score\n",
        "from imblearn.over_sampling import SMOTE\n",
        "from sklearn.model_selection import train_test_split"
      ],
      "metadata": {
        "id": "KonmImJu79oC"
      },
      "execution_count": null,
      "outputs": []
    },
    {
      "cell_type": "code",
      "source": [
        "# Split features and target\n",
        "X = df.drop(['Outcome'], axis=1)  # Features\n",
        "y = df['Outcome']  # Target\n",
        "\n",
        "# Split into train and test sets\n",
        "X_train, X_test, y_train, y_test = train_test_split(X, y, test_size=0.2, random_state=42)\n",
        "\n",
        "# Apply SMOTE to balance the dataset\n",
        "smote = SMOTE(random_state=42)\n",
        "X_train_resampled, y_train_resampled = smote.fit_resample(X_train, y_train)\n",
        "\n",
        "# BOA Parameters\n",
        "population_size = 20  # Number of butterflies\n",
        "iterations = 20  # Number of iterations\n",
        "a = 0.01  # Sensory modality\n",
        "c = 0.01  # Constant for butterfly movement\n",
        "p = 0.8  # Probability for butterfly's movement\n",
        "\n",
        "# Initialize random hyperparameters (Butterfly positions)\n",
        "# Hyperparameters: [n_estimators, max_depth, min_samples_split]\n",
        "butterflies = np.random.randint(10, 200, size=(population_size, 3))  # Random hyperparameter sets\n",
        "\n",
        "# Fitness function (objective function to maximize)\n",
        "def fitness_function(hyperparameters):\n",
        "    n_estimators, max_depth, min_samples_split = hyperparameters\n",
        "\n",
        "    # Train Random Forest Classifier with these hyperparameters\n",
        "    clf = RandomForestClassifier(n_estimators=int(n_estimators),\n",
        "                                 max_depth=int(max_depth),\n",
        "                                 min_samples_split=int(min_samples_split),\n",
        "                                 random_state=42)\n",
        "    clf.fit(X_train_resampled, y_train_resampled)\n",
        "\n",
        "    # Predict on the test set\n",
        "    y_pred = clf.predict(X_test)\n",
        "\n",
        "    # Calculate accuracy as fitness score\n",
        "    accuracy = accuracy_score(y_test, y_pred)\n",
        "    return accuracy"
      ],
      "metadata": {
        "id": "cy_A59nu7dsr"
      },
      "execution_count": null,
      "outputs": []
    },
    {
      "cell_type": "code",
      "source": [
        "# BOA Optimization Loop\n",
        "best_hyperparameters = None\n",
        "best_fitness = 0\n",
        "\n",
        "for iteration in range(iterations):\n",
        "    for i in range(population_size):\n",
        "        # Calculate fitness for each butterfly\n",
        "        fitness = fitness_function(butterflies[i])\n",
        "\n",
        "        # Update the best solution if the current one is better\n",
        "        if fitness > best_fitness:\n",
        "            best_fitness = fitness\n",
        "            best_hyperparameters = butterflies[i]\n",
        "\n",
        "        # Update butterfly's position using the BOA formula\n",
        "        for j in range(3):  # Update each hyperparameter\n",
        "            if np.random.random() > p:\n",
        "                # Global search\n",
        "                butterflies[i][j] += a * butterflies[i][j] * np.random.randn()\n",
        "            else:\n",
        "                # Local search\n",
        "                butterflies[i][j] += c * (best_hyperparameters[j] - butterflies[i][j]) * np.random.randn()\n",
        "\n",
        "    print(f\"Iteration {iteration+1}/{iterations}, Best Accuracy: {best_fitness:.4f}\")\n",
        "\n",
        "# Final optimal hyperparameters\n",
        "print(f\"Best Hyperparameters found: {best_hyperparameters}\")"
      ],
      "metadata": {
        "colab": {
          "base_uri": "https://localhost:8080/"
        },
        "id": "Wgp-6B3N8bog",
        "outputId": "372bc9e5-21a8-4b90-a6a9-16933674a837"
      },
      "execution_count": null,
      "outputs": [
        {
          "output_type": "stream",
          "name": "stdout",
          "text": [
            "Iteration 1/20, Best Accuracy: 0.9840\n",
            "Iteration 2/20, Best Accuracy: 0.9840\n",
            "Iteration 3/20, Best Accuracy: 0.9840\n",
            "Iteration 4/20, Best Accuracy: 0.9840\n",
            "Iteration 5/20, Best Accuracy: 0.9840\n",
            "Iteration 6/20, Best Accuracy: 0.9840\n",
            "Iteration 7/20, Best Accuracy: 0.9840\n",
            "Iteration 8/20, Best Accuracy: 0.9840\n",
            "Iteration 9/20, Best Accuracy: 0.9840\n",
            "Iteration 10/20, Best Accuracy: 0.9840\n",
            "Iteration 11/20, Best Accuracy: 0.9840\n",
            "Iteration 12/20, Best Accuracy: 0.9840\n",
            "Iteration 13/20, Best Accuracy: 0.9840\n",
            "Iteration 14/20, Best Accuracy: 0.9840\n",
            "Iteration 15/20, Best Accuracy: 0.9840\n",
            "Iteration 16/20, Best Accuracy: 0.9840\n",
            "Iteration 17/20, Best Accuracy: 0.9840\n",
            "Iteration 18/20, Best Accuracy: 0.9840\n",
            "Iteration 19/20, Best Accuracy: 0.9840\n",
            "Iteration 20/20, Best Accuracy: 0.9840\n",
            "Best Hyperparameters found: [ 17  43 107]\n"
          ]
        }
      ]
    },
    {
      "cell_type": "code",
      "source": [
        "from sklearn.metrics import accuracy_score, roc_auc_score, roc_curve\n",
        "import matplotlib.pyplot as plt"
      ],
      "metadata": {
        "id": "yuTX4EfZ8bvJ"
      },
      "execution_count": null,
      "outputs": []
    },
    {
      "cell_type": "code",
      "source": [
        "y_pred_proba = best_classifier.predict_proba(x_test)[:, 1]"
      ],
      "metadata": {
        "id": "_XrLRmlk84nJ"
      },
      "execution_count": null,
      "outputs": []
    },
    {
      "cell_type": "code",
      "source": [
        "# Calculate AUC-ROC score\n",
        "auc = roc_auc_score(y_test, y_pred_proba)\n",
        "print(f\"AUC-ROC Score: {auc:.4f}\")\n",
        "\n",
        "# --- Plotting the ROC Curve ---\n",
        "fpr, tpr, thresholds = roc_curve(y_test, y_pred_proba)\n",
        "plt.figure()\n",
        "plt.plot(fpr, tpr, color='darkorange', lw=2, label=f'ROC curve (AUC = {auc:.4f})')\n",
        "plt.plot([0, 1], [0, 1], color='navy', lw=2, linestyle='--')\n",
        "plt.xlim([0.0, 1.0])\n",
        "plt.ylim([0.0, 1.05])\n",
        "plt.xlabel('False Positive Rate')\n",
        "plt.ylabel('True Positive Rate')\n",
        "plt.title('Receiver Operating Characteristic (ROC) Curve')\n",
        "plt.legend(loc=\"lower right\")\n",
        "plt.show()"
      ],
      "metadata": {
        "colab": {
          "base_uri": "https://localhost:8080/",
          "height": 489
        },
        "id": "jLZ_TGHl84vk",
        "outputId": "af064522-3dde-4353-b676-c4600db68ac5"
      },
      "execution_count": null,
      "outputs": [
        {
          "output_type": "stream",
          "name": "stdout",
          "text": [
            "AUC-ROC Score: 0.9987\n"
          ]
        },
        {
          "output_type": "display_data",
          "data": {
            "text/plain": [
              "<Figure size 640x480 with 1 Axes>"
            ],
            "image/png": "[encoded data removed]"
          },
          "metadata": {}
        }
      ]
    },
    {
      "cell_type": "code",
      "source": [
        "from sklearn.metrics import confusion_matrix, accuracy_score, precision_score, recall_score, f1_score, roc_auc_score, classification_report"
      ],
      "metadata": {
        "id": "_58lofCP74sS"
      },
      "execution_count": null,
      "outputs": []
    },
    {
      "cell_type": "code",
      "source": [
        "# Confusion Matrix\n",
        "y_pred = clf.predict(x_test)\n",
        "cm = confusion_matrix(y_test, y_pred)\n",
        "print(\"Confusion Matrix:\\n\", cm)\n",
        "\n",
        "# Accuracy\n",
        "accuracy = accuracy_score(y_test, y_pred)\n",
        "print(f\"Accuracy: {accuracy:.4f}\")\n",
        "\n",
        "# Precision\n",
        "precision = precision_score(y_test, y_pred)\n",
        "print(f\"Precision: {precision:.4f}\")\n",
        "\n",
        "# Recall\n",
        "recall = recall_score(y_test, y_pred)\n",
        "print(f\"Recall: {recall:.4f}\")\n",
        "\n",
        "# F1-Score\n",
        "f1 = f1_score(y_test, y_pred)\n",
        "print(f\"F1-Score: {f1:.4f}\")"
      ],
      "metadata": {
        "colab": {
          "base_uri": "https://localhost:8080/"
        },
        "id": "SJKcusHu9D1S",
        "outputId": "7e5c6ed2-d478-45e9-bcbf-a5e4a39165cc"
      },
      "execution_count": null,
      "outputs": [
        {
          "output_type": "stream",
          "name": "stdout",
          "text": [
            "Confusion Matrix:\n",
            " [[91  2]\n",
            " [ 0 32]]\n",
            "Accuracy: 0.9840\n",
            "Precision: 0.9412\n",
            "Recall: 1.0000\n",
            "F1-Score: 0.9697\n"
          ]
        }
      ]
    },
    {
      "cell_type": "code",
      "source": [
        "# Classification Report\n",
        "print(\"Classification Report:\\n\", classification_report(y_test, y_pred))"
      ],
      "metadata": {
        "colab": {
          "base_uri": "https://localhost:8080/"
        },
        "id": "A1nS-w8U9S3I",
        "outputId": "da7a0035-f70a-459f-966c-f5ecdf5c2347"
      },
      "execution_count": null,
      "outputs": [
        {
          "output_type": "stream",
          "name": "stdout",
          "text": [
            "Classification Report:\n",
            "               precision    recall  f1-score   support\n",
            "\n",
            "           0       1.00      0.98      0.99        93\n",
            "           1       0.94      1.00      0.97        32\n",
            "\n",
            "    accuracy                           0.98       125\n",
            "   macro avg       0.97      0.99      0.98       125\n",
            "weighted avg       0.98      0.98      0.98       125\n",
            "\n"
          ]
        }
      ]
    },
    {
      "cell_type": "code",
      "source": [
        "from sklearn.metrics import confusion_matrix\n",
        "import seaborn as sns\n",
        "import matplotlib.pyplot as plt\n",
        "\n",
        "# Confusion Matrix\n",
        "conf_matrix = confusion_matrix(y_test, y_pred)\n",
        "\n",
        "# Plot Confusion Matrix\n",
        "sns.heatmap(conf_matrix, annot=True, fmt='d', cmap='Blues', xticklabels=['Class 0', 'Class 1'], yticklabels=['Class 0', 'Class 1'])\n",
        "plt.ylabel('Actual')\n",
        "plt.xlabel('Predicted')\n",
        "plt.title('Confusion Matrix')\n",
        "plt.show()\n"
      ],
      "metadata": {
        "colab": {
          "base_uri": "https://localhost:8080/",
          "height": 472
        },
        "id": "7iJXC_ns9TQT",
        "outputId": "c510ce6c-ad54-4344-d4a8-65a68ea12ab5"
      },
      "execution_count": null,
      "outputs": [
        {
          "output_type": "display_data",
          "data": {
            "text/plain": [
              "<Figure size 640x480 with 2 Axes>"
            ],
            "image/png": "[encoded data removed]"
          },
          "metadata": {}
        }
      ]
    },
    {
      "cell_type": "code",
      "source": [
        "from imblearn.over_sampling import ADASYN, RandomOverSampler\n",
        "\n",
        "# ADASYN\n",
        "adasyn = ADASYN(random_state=42)\n",
        "X_train_resampled, y_train_resampled = adasyn.fit_resample(X_train, y_train)\n",
        "\n",
        "# Random Over Sampler\n",
        "#ros = RandomOverSampler(random_state=42)\n",
        "#X_train_resampled, y_train_resampled = ros.fit_resample(X_train, y_train)"
      ],
      "metadata": {
        "id": "vibiGpQ79eBe"
      },
      "execution_count": null,
      "outputs": []
    },
    {
      "cell_type": "code",
      "source": [],
      "metadata": {
        "id": "ddQWvft69ni-"
      },
      "execution_count": null,
      "outputs": []
    }
  ]
}